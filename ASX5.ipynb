{
  "nbformat": 4,
  "nbformat_minor": 0,
  "metadata": {
    "colab": {
      "name": "ASX5.ipynb",
      "provenance": [],
      "collapsed_sections": [],
      "authorship_tag": "ABX9TyMXgSWXhj4HwbU70lag6rRi",
      "include_colab_link": true
    },
    "kernelspec": {
      "name": "python3",
      "display_name": "Python 3"
    },
    "language_info": {
      "name": "python"
    }
  },
  "cells": [
    {
      "cell_type": "markdown",
      "metadata": {
        "id": "view-in-github",
        "colab_type": "text"
      },
      "source": [
        "<a href=\"https://colab.research.google.com/github/virajvaidya/ValueAtRiskModel/blob/main/ASX5.ipynb\" target=\"_parent\"><img src=\"https://colab.research.google.com/assets/colab-badge.svg\" alt=\"Open In Colab\"/></a>"
      ]
    },
    {
      "cell_type": "code",
      "metadata": {
        "id": "S5Rxc7GotW2S"
      },
      "source": [
        "!pip install yfinance\n",
        "\n",
        "from scipy.stats import norm\n",
        "\n",
        "import yfinance          as yf\n",
        "import pandas            as pd\n",
        "import numpy             as np\n",
        "import datetime          as dt\n",
        "import matplotlib.pyplot as plt\n",
        "\n",
        "import requests"
      ],
      "execution_count": null,
      "outputs": []
    },
    {
      "cell_type": "code",
      "metadata": {
        "id": "OigCcxkHtkE-"
      },
      "source": [
        "apt =  yf.Ticker(\"APT.AX\")      #AFTERPAY LTD\n",
        "col =  yf.Ticker(\"COL.AX\")      #COLES GROUP LTD\n",
        "wow =  yf.Ticker(\"WOW.AX\")      #WOOLWORTHS GROUP LTD\n",
        "tls =  yf.Ticker(\"TLS.AX\")      #TELSTRA CORPORATION LTD\n",
        "art =  yf.Ticker(\"ART.AX\")      #AIRTASKER LTD"
      ],
      "execution_count": 2,
      "outputs": []
    },
    {
      "cell_type": "markdown",
      "metadata": {
        "id": "hBBfWZ8juSnq"
      },
      "source": [
        "#Stock Information"
      ]
    },
    {
      "cell_type": "code",
      "metadata": {
        "colab": {
          "base_uri": "https://localhost:8080/"
        },
        "id": "bjZmZ1wVuUyE",
        "outputId": "da57a1b0-1ae3-41d5-8192-8d944babc9e7"
      },
      "source": [
        "apt.info"
      ],
      "execution_count": 38,
      "outputs": [
        {
          "output_type": "execute_result",
          "data": {
            "text/plain": [
              "{'52WeekChange': 0.14819491,\n",
              " 'SandP52WeekChange': 0.26866078,\n",
              " 'address1': '406 Collins Street',\n",
              " 'address2': 'Level 5',\n",
              " 'algorithm': None,\n",
              " 'annualHoldingsTurnover': None,\n",
              " 'annualReportExpenseRatio': None,\n",
              " 'ask': 109.25,\n",
              " 'askSize': 8900,\n",
              " 'averageDailyVolume10Day': 801115,\n",
              " 'averageVolume': 832721,\n",
              " 'averageVolume10days': 801115,\n",
              " 'beta': 1.973724,\n",
              " 'beta3Year': None,\n",
              " 'bid': 109.09,\n",
              " 'bidSize': 24300,\n",
              " 'bookValue': 4.504,\n",
              " 'category': None,\n",
              " 'circulatingSupply': None,\n",
              " 'city': 'Melbourne',\n",
              " 'companyOfficers': [],\n",
              " 'country': 'Australia',\n",
              " 'currency': 'AUD',\n",
              " 'currentPrice': 109.09,\n",
              " 'currentRatio': 8.168,\n",
              " 'dateShortInterest': None,\n",
              " 'dayHigh': 111.99,\n",
              " 'dayLow': 109.04,\n",
              " 'debtToEquity': 101.279,\n",
              " 'dividendRate': None,\n",
              " 'dividendYield': None,\n",
              " 'earningsGrowth': None,\n",
              " 'earningsQuarterlyGrowth': None,\n",
              " 'ebitda': -53229000,\n",
              " 'ebitdaMargins': -0.06367,\n",
              " 'enterpriseToEbitda': -597.26,\n",
              " 'enterpriseToRevenue': 38.026,\n",
              " 'enterpriseValue': 31791570944,\n",
              " 'exDividendDate': None,\n",
              " 'exchange': 'ASX',\n",
              " 'exchangeTimezoneName': 'Australia/Sydney',\n",
              " 'exchangeTimezoneShortName': 'AEDT',\n",
              " 'expireDate': None,\n",
              " 'fiftyDayAverage': 120.4212,\n",
              " 'fiftyTwoWeekHigh': 160.05,\n",
              " 'fiftyTwoWeekLow': 81.85,\n",
              " 'financialCurrency': 'AUD',\n",
              " 'fiveYearAverageReturn': None,\n",
              " 'fiveYearAvgDividendYield': None,\n",
              " 'floatShares': 227536488,\n",
              " 'forwardEps': 0.29,\n",
              " 'forwardPE': 376.17242,\n",
              " 'freeCashflow': -592948224,\n",
              " 'fromCurrency': None,\n",
              " 'fullTimeEmployees': 1300,\n",
              " 'fundFamily': None,\n",
              " 'fundInceptionDate': None,\n",
              " 'gmtOffSetMilliseconds': '39600000',\n",
              " 'grossMargins': 0.70149004,\n",
              " 'grossProfits': 586482000,\n",
              " 'heldPercentInsiders': 0.2258,\n",
              " 'heldPercentInstitutions': 0.31944,\n",
              " 'impliedSharesOutstanding': 289312992,\n",
              " 'industry': 'Software—Infrastructure',\n",
              " 'isEsgPopulated': False,\n",
              " 'lastCapGain': None,\n",
              " 'lastDividendDate': None,\n",
              " 'lastDividendValue': None,\n",
              " 'lastFiscalYearEnd': 1625011200,\n",
              " 'lastMarket': None,\n",
              " 'lastSplitDate': None,\n",
              " 'lastSplitFactor': None,\n",
              " 'legalType': None,\n",
              " 'logo_url': 'https://logo.clearbit.com/afterpay.com',\n",
              " 'longBusinessSummary': \"Afterpay Limited, together with its subsidiaries, provides payments solutions to customers, merchants, and businesses. Its Afterpay Asia Pacific segment operates the Afterpay platforms in Australia, New Zealand, and Asia. The company's Afterpay North America segment operates the Afterpay platforms in the United States and Canada. Its Clearpay segment operates the Clearpay platforms in the United Kingdom and Europe. The company's Pay Now segment provides mobility, health, and e-services. The company was formerly known as Afterpay Touch Group Limited and changed its name to Afterpay Limited in November 2019. Afterpay Limited was incorporated in 2017 and is based in Melbourne, Australia.\",\n",
              " 'longName': 'Afterpay Limited',\n",
              " 'market': 'au_market',\n",
              " 'marketCap': 31800934400,\n",
              " 'maxAge': 1,\n",
              " 'maxSupply': None,\n",
              " 'messageBoardId': 'finmb_327168517',\n",
              " 'morningStarOverallRating': None,\n",
              " 'morningStarRiskRating': None,\n",
              " 'mostRecentQuarter': 1625011200,\n",
              " 'navPrice': None,\n",
              " 'netIncomeToCommon': -156298000,\n",
              " 'nextFiscalYearEnd': 1688083200,\n",
              " 'numberOfAnalystOpinions': 15,\n",
              " 'open': 111.9,\n",
              " 'openInterest': None,\n",
              " 'operatingCashflow': -571195008,\n",
              " 'operatingMargins': -0.07196,\n",
              " 'payoutRatio': 0,\n",
              " 'pegRatio': -3.31,\n",
              " 'phone': '1300 100 729',\n",
              " 'preMarketPrice': None,\n",
              " 'previousClose': 111.74,\n",
              " 'priceHint': 2,\n",
              " 'priceToBook': 24.220692,\n",
              " 'priceToSalesTrailing12Months': 38.0373,\n",
              " 'profitMargins': -0.18695,\n",
              " 'quickRatio': 8.11,\n",
              " 'quoteType': 'EQUITY',\n",
              " 'recommendationKey': 'buy',\n",
              " 'recommendationMean': 2.4,\n",
              " 'regularMarketDayHigh': 111.99,\n",
              " 'regularMarketDayLow': 109.04,\n",
              " 'regularMarketOpen': 111.9,\n",
              " 'regularMarketPreviousClose': 111.74,\n",
              " 'regularMarketPrice': 109.09,\n",
              " 'regularMarketVolume': 681411,\n",
              " 'returnOnAssets': -0.01591,\n",
              " 'returnOnEquity': -0.14167,\n",
              " 'revenueGrowth': 0.572,\n",
              " 'revenuePerShare': 2.936,\n",
              " 'revenueQuarterlyGrowth': None,\n",
              " 'sector': 'Technology',\n",
              " 'sharesOutstanding': 291511008,\n",
              " 'sharesPercentSharesOut': None,\n",
              " 'sharesShort': None,\n",
              " 'sharesShortPreviousMonthDate': None,\n",
              " 'sharesShortPriorMonth': None,\n",
              " 'shortName': 'AFTERPAY FPO',\n",
              " 'shortPercentOfFloat': None,\n",
              " 'shortRatio': None,\n",
              " 'startDate': None,\n",
              " 'state': 'VIC',\n",
              " 'strikePrice': None,\n",
              " 'symbol': 'APT.AX',\n",
              " 'targetHighPrice': 175,\n",
              " 'targetLowPrice': 40,\n",
              " 'targetMeanPrice': 140.7,\n",
              " 'targetMedianPrice': 146.32,\n",
              " 'threeYearAverageReturn': None,\n",
              " 'toCurrency': None,\n",
              " 'totalAssets': None,\n",
              " 'totalCash': 1173934976,\n",
              " 'totalCashPerShare': 4.047,\n",
              " 'totalDebt': 1320583040,\n",
              " 'totalRevenue': 836046016,\n",
              " 'tradeable': False,\n",
              " 'trailingAnnualDividendRate': None,\n",
              " 'trailingAnnualDividendYield': None,\n",
              " 'trailingEps': -0.55,\n",
              " 'twoHundredDayAverage': 116.2805,\n",
              " 'volume': 681411,\n",
              " 'volume24Hr': None,\n",
              " 'volumeAllCurrencies': None,\n",
              " 'website': 'http://www.afterpay.com',\n",
              " 'yield': None,\n",
              " 'ytdReturn': None,\n",
              " 'zip': '3000'}"
            ]
          },
          "metadata": {},
          "execution_count": 38
        }
      ]
    },
    {
      "cell_type": "code",
      "metadata": {
        "id": "Gi3IyqQQuW1G"
      },
      "source": [
        "col.info"
      ],
      "execution_count": null,
      "outputs": []
    },
    {
      "cell_type": "code",
      "metadata": {
        "id": "UxuOydyBuYAh"
      },
      "source": [
        "wow.info"
      ],
      "execution_count": null,
      "outputs": []
    },
    {
      "cell_type": "code",
      "metadata": {
        "id": "j9gMzO1CuZmw"
      },
      "source": [
        "tls.info"
      ],
      "execution_count": null,
      "outputs": []
    },
    {
      "cell_type": "code",
      "metadata": {
        "id": "4Bx-BM9yuauy"
      },
      "source": [
        "art.info"
      ],
      "execution_count": null,
      "outputs": []
    },
    {
      "cell_type": "markdown",
      "metadata": {
        "id": "ZxHEGVzqud-O"
      },
      "source": [
        "#Cashflow"
      ]
    },
    {
      "cell_type": "code",
      "metadata": {
        "colab": {
          "base_uri": "https://localhost:8080/",
          "height": 635
        },
        "id": "H5eTFecDuggi",
        "outputId": "5d06eddb-4aa7-470b-db83-f054659d075c"
      },
      "source": [
        "apt.cashflow"
      ],
      "execution_count": 39,
      "outputs": [
        {
          "output_type": "execute_result",
          "data": {
            "text/html": [
              "<div>\n",
              "<style scoped>\n",
              "    .dataframe tbody tr th:only-of-type {\n",
              "        vertical-align: middle;\n",
              "    }\n",
              "\n",
              "    .dataframe tbody tr th {\n",
              "        vertical-align: top;\n",
              "    }\n",
              "\n",
              "    .dataframe thead th {\n",
              "        text-align: right;\n",
              "    }\n",
              "</style>\n",
              "<table border=\"1\" class=\"dataframe\">\n",
              "  <thead>\n",
              "    <tr style=\"text-align: right;\">\n",
              "      <th></th>\n",
              "      <th>2021-06-30</th>\n",
              "      <th>2020-06-30</th>\n",
              "      <th>2019-06-30</th>\n",
              "      <th>2018-06-30</th>\n",
              "    </tr>\n",
              "  </thead>\n",
              "  <tbody>\n",
              "    <tr>\n",
              "      <th>Investments</th>\n",
              "      <td>-2.765300e+07</td>\n",
              "      <td>-4528000.0</td>\n",
              "      <td>-866000.0</td>\n",
              "      <td>-2165000.0</td>\n",
              "    </tr>\n",
              "    <tr>\n",
              "      <th>Change To Liabilities</th>\n",
              "      <td>0.000000e+00</td>\n",
              "      <td>0.0</td>\n",
              "      <td>0.0</td>\n",
              "      <td>10331000.0</td>\n",
              "    </tr>\n",
              "    <tr>\n",
              "      <th>Total Cashflows From Investing Activities</th>\n",
              "      <td>-1.109090e+08</td>\n",
              "      <td>-48647000.0</td>\n",
              "      <td>-16290000.0</td>\n",
              "      <td>-14222000.0</td>\n",
              "    </tr>\n",
              "    <tr>\n",
              "      <th>Net Borrowings</th>\n",
              "      <td>1.060961e+09</td>\n",
              "      <td>410114000.0</td>\n",
              "      <td>-111505000.0</td>\n",
              "      <td>114663000.0</td>\n",
              "    </tr>\n",
              "    <tr>\n",
              "      <th>Total Cash From Financing Activities</th>\n",
              "      <td>1.220401e+09</td>\n",
              "      <td>649448000.0</td>\n",
              "      <td>357133000.0</td>\n",
              "      <td>113782000.0</td>\n",
              "    </tr>\n",
              "    <tr>\n",
              "      <th>Change To Operating Activities</th>\n",
              "      <td>7.738400e+07</td>\n",
              "      <td>61522000.0</td>\n",
              "      <td>70945000.0</td>\n",
              "      <td>2424000.0</td>\n",
              "    </tr>\n",
              "    <tr>\n",
              "      <th>Issuance Of Stock</th>\n",
              "      <td>8.135670e+08</td>\n",
              "      <td>263562000.0</td>\n",
              "      <td>472900000.0</td>\n",
              "      <td>20976000.0</td>\n",
              "    </tr>\n",
              "    <tr>\n",
              "      <th>Net Income</th>\n",
              "      <td>-1.562980e+08</td>\n",
              "      <td>-19780000.0</td>\n",
              "      <td>-42861000.0</td>\n",
              "      <td>-8976000.0</td>\n",
              "    </tr>\n",
              "    <tr>\n",
              "      <th>Change In Cash</th>\n",
              "      <td>5.411060e+08</td>\n",
              "      <td>374585000.0</td>\n",
              "      <td>198897000.0</td>\n",
              "      <td>2957000.0</td>\n",
              "    </tr>\n",
              "    <tr>\n",
              "      <th>Effect Of Exchange Rate</th>\n",
              "      <td>2.809000e+06</td>\n",
              "      <td>7737000.0</td>\n",
              "      <td>246000.0</td>\n",
              "      <td>1627000.0</td>\n",
              "    </tr>\n",
              "    <tr>\n",
              "      <th>Total Cash From Operating Activities</th>\n",
              "      <td>-5.711950e+08</td>\n",
              "      <td>-233953000.0</td>\n",
              "      <td>-142192000.0</td>\n",
              "      <td>-98230000.0</td>\n",
              "    </tr>\n",
              "    <tr>\n",
              "      <th>Depreciation</th>\n",
              "      <td>1.368100e+07</td>\n",
              "      <td>11006000.0</td>\n",
              "      <td>9002000.0</td>\n",
              "      <td>6710000.0</td>\n",
              "    </tr>\n",
              "    <tr>\n",
              "      <th>Other Cashflows From Investing Activities</th>\n",
              "      <td>9.490000e+05</td>\n",
              "      <td>1476000.0</td>\n",
              "      <td>686000.0</td>\n",
              "      <td>524000.0</td>\n",
              "    </tr>\n",
              "    <tr>\n",
              "      <th>Change To Account Receivables</th>\n",
              "      <td>-6.721770e+08</td>\n",
              "      <td>-329196000.0</td>\n",
              "      <td>-221478000.0</td>\n",
              "      <td>-140683000.0</td>\n",
              "    </tr>\n",
              "    <tr>\n",
              "      <th>Other Cashflows From Financing Activities</th>\n",
              "      <td>-6.541270e+08</td>\n",
              "      <td>-24228000.0</td>\n",
              "      <td>-4262000.0</td>\n",
              "      <td>-21857000.0</td>\n",
              "    </tr>\n",
              "    <tr>\n",
              "      <th>Change To Netincome</th>\n",
              "      <td>1.409070e+08</td>\n",
              "      <td>23466000.0</td>\n",
              "      <td>28831000.0</td>\n",
              "      <td>21345000.0</td>\n",
              "    </tr>\n",
              "    <tr>\n",
              "      <th>Capital Expenditures</th>\n",
              "      <td>-4.353000e+06</td>\n",
              "      <td>-3389000.0</td>\n",
              "      <td>-2070000.0</td>\n",
              "      <td>-1082000.0</td>\n",
              "    </tr>\n",
              "  </tbody>\n",
              "</table>\n",
              "</div>"
            ],
            "text/plain": [
              "                                             2021-06-30  ...   2018-06-30\n",
              "Investments                               -2.765300e+07  ...   -2165000.0\n",
              "Change To Liabilities                      0.000000e+00  ...   10331000.0\n",
              "Total Cashflows From Investing Activities -1.109090e+08  ...  -14222000.0\n",
              "Net Borrowings                             1.060961e+09  ...  114663000.0\n",
              "Total Cash From Financing Activities       1.220401e+09  ...  113782000.0\n",
              "Change To Operating Activities             7.738400e+07  ...    2424000.0\n",
              "Issuance Of Stock                          8.135670e+08  ...   20976000.0\n",
              "Net Income                                -1.562980e+08  ...   -8976000.0\n",
              "Change In Cash                             5.411060e+08  ...    2957000.0\n",
              "Effect Of Exchange Rate                    2.809000e+06  ...    1627000.0\n",
              "Total Cash From Operating Activities      -5.711950e+08  ...  -98230000.0\n",
              "Depreciation                               1.368100e+07  ...    6710000.0\n",
              "Other Cashflows From Investing Activities  9.490000e+05  ...     524000.0\n",
              "Change To Account Receivables             -6.721770e+08  ... -140683000.0\n",
              "Other Cashflows From Financing Activities -6.541270e+08  ...  -21857000.0\n",
              "Change To Netincome                        1.409070e+08  ...   21345000.0\n",
              "Capital Expenditures                      -4.353000e+06  ...   -1082000.0\n",
              "\n",
              "[17 rows x 4 columns]"
            ]
          },
          "metadata": {},
          "execution_count": 39
        }
      ]
    },
    {
      "cell_type": "code",
      "metadata": {
        "id": "DAh98oFJuiRu"
      },
      "source": [
        "col.cashflow"
      ],
      "execution_count": null,
      "outputs": []
    },
    {
      "cell_type": "code",
      "metadata": {
        "id": "pdJc63sVujvv"
      },
      "source": [
        "wow.cashflow"
      ],
      "execution_count": null,
      "outputs": []
    },
    {
      "cell_type": "code",
      "metadata": {
        "id": "y-upYt4hulFZ"
      },
      "source": [
        "tls.cashflow"
      ],
      "execution_count": null,
      "outputs": []
    },
    {
      "cell_type": "code",
      "metadata": {
        "id": "x12YKr46umlp"
      },
      "source": [
        "art.cashflow"
      ],
      "execution_count": null,
      "outputs": []
    },
    {
      "cell_type": "markdown",
      "metadata": {
        "id": "NhwmvMqguwJx"
      },
      "source": [
        "#Balance Sheet"
      ]
    },
    {
      "cell_type": "code",
      "metadata": {
        "colab": {
          "base_uri": "https://localhost:8080/",
          "height": 865
        },
        "id": "ZCMD17HTuxvy",
        "outputId": "104671c3-1aca-4857-a428-7b86569859a1"
      },
      "source": [
        "apt.balance_sheet"
      ],
      "execution_count": 40,
      "outputs": [
        {
          "output_type": "execute_result",
          "data": {
            "text/html": [
              "<div>\n",
              "<style scoped>\n",
              "    .dataframe tbody tr th:only-of-type {\n",
              "        vertical-align: middle;\n",
              "    }\n",
              "\n",
              "    .dataframe tbody tr th {\n",
              "        vertical-align: top;\n",
              "    }\n",
              "\n",
              "    .dataframe thead th {\n",
              "        text-align: right;\n",
              "    }\n",
              "</style>\n",
              "<table border=\"1\" class=\"dataframe\">\n",
              "  <thead>\n",
              "    <tr style=\"text-align: right;\">\n",
              "      <th></th>\n",
              "      <th>2021-06-30</th>\n",
              "      <th>2020-06-30</th>\n",
              "      <th>2019-06-30</th>\n",
              "      <th>2018-06-30</th>\n",
              "    </tr>\n",
              "  </thead>\n",
              "  <tbody>\n",
              "    <tr>\n",
              "      <th>Intangible Assets</th>\n",
              "      <td>1.152170e+08</td>\n",
              "      <td>6.678200e+07</td>\n",
              "      <td>49265000.0</td>\n",
              "      <td>48920000.0</td>\n",
              "    </tr>\n",
              "    <tr>\n",
              "      <th>Total Liab</th>\n",
              "      <td>1.812321e+09</td>\n",
              "      <td>6.621750e+08</td>\n",
              "      <td>171952000.0</td>\n",
              "      <td>208670000.0</td>\n",
              "    </tr>\n",
              "    <tr>\n",
              "      <th>Total Stockholder Equity</th>\n",
              "      <td>1.303093e+09</td>\n",
              "      <td>9.436730e+08</td>\n",
              "      <td>645559000.0</td>\n",
              "      <td>183555000.0</td>\n",
              "    </tr>\n",
              "    <tr>\n",
              "      <th>Minority Interest</th>\n",
              "      <td>8.130000e+05</td>\n",
              "      <td>2.678000e+06</td>\n",
              "      <td>2957000.0</td>\n",
              "      <td>NaN</td>\n",
              "    </tr>\n",
              "    <tr>\n",
              "      <th>Other Current Liab</th>\n",
              "      <td>6.614000e+06</td>\n",
              "      <td>1.382000e+06</td>\n",
              "      <td>5470000.0</td>\n",
              "      <td>1834000.0</td>\n",
              "    </tr>\n",
              "    <tr>\n",
              "      <th>Total Assets</th>\n",
              "      <td>3.116227e+09</td>\n",
              "      <td>1.608526e+09</td>\n",
              "      <td>820468000.0</td>\n",
              "      <td>392225000.0</td>\n",
              "    </tr>\n",
              "    <tr>\n",
              "      <th>Common Stock</th>\n",
              "      <td>2.204450e+09</td>\n",
              "      <td>9.753170e+08</td>\n",
              "      <td>674769000.0</td>\n",
              "      <td>192628000.0</td>\n",
              "    </tr>\n",
              "    <tr>\n",
              "      <th>Other Current Assets</th>\n",
              "      <td>1.878000e+07</td>\n",
              "      <td>6.695000e+06</td>\n",
              "      <td>9130000.0</td>\n",
              "      <td>31559000.0</td>\n",
              "    </tr>\n",
              "    <tr>\n",
              "      <th>Retained Earnings</th>\n",
              "      <td>-2.466530e+08</td>\n",
              "      <td>-9.035500e+07</td>\n",
              "      <td>-70575000.0</td>\n",
              "      <td>-22195000.0</td>\n",
              "    </tr>\n",
              "    <tr>\n",
              "      <th>Other Liab</th>\n",
              "      <td>1.685420e+08</td>\n",
              "      <td>3.856000e+06</td>\n",
              "      <td>1921000.0</td>\n",
              "      <td>522000.0</td>\n",
              "    </tr>\n",
              "    <tr>\n",
              "      <th>Good Will</th>\n",
              "      <td>1.122960e+08</td>\n",
              "      <td>3.980700e+07</td>\n",
              "      <td>39807000.0</td>\n",
              "      <td>23575000.0</td>\n",
              "    </tr>\n",
              "    <tr>\n",
              "      <th>Treasury Stock</th>\n",
              "      <td>-6.547040e+08</td>\n",
              "      <td>5.871100e+07</td>\n",
              "      <td>41365000.0</td>\n",
              "      <td>13122000.0</td>\n",
              "    </tr>\n",
              "    <tr>\n",
              "      <th>Other Assets</th>\n",
              "      <td>1.620920e+08</td>\n",
              "      <td>7.846100e+07</td>\n",
              "      <td>27860000.0</td>\n",
              "      <td>10136000.0</td>\n",
              "    </tr>\n",
              "    <tr>\n",
              "      <th>Cash</th>\n",
              "      <td>1.147147e+09</td>\n",
              "      <td>6.060410e+08</td>\n",
              "      <td>231456000.0</td>\n",
              "      <td>32559000.0</td>\n",
              "    </tr>\n",
              "    <tr>\n",
              "      <th>Total Current Liabilities</th>\n",
              "      <td>3.253970e+08</td>\n",
              "      <td>1.935520e+08</td>\n",
              "      <td>119808000.0</td>\n",
              "      <td>46593000.0</td>\n",
              "    </tr>\n",
              "    <tr>\n",
              "      <th>Deferred Long Term Asset Charges</th>\n",
              "      <td>1.561270e+08</td>\n",
              "      <td>7.829100e+07</td>\n",
              "      <td>27280000.0</td>\n",
              "      <td>9261000.0</td>\n",
              "    </tr>\n",
              "    <tr>\n",
              "      <th>Other Stockholder Equity</th>\n",
              "      <td>-6.547040e+08</td>\n",
              "      <td>5.871100e+07</td>\n",
              "      <td>41365000.0</td>\n",
              "      <td>13122000.0</td>\n",
              "    </tr>\n",
              "    <tr>\n",
              "      <th>Property Plant Equipment</th>\n",
              "      <td>4.207000e+07</td>\n",
              "      <td>1.212600e+07</td>\n",
              "      <td>4213000.0</td>\n",
              "      <td>4008000.0</td>\n",
              "    </tr>\n",
              "    <tr>\n",
              "      <th>Total Current Assets</th>\n",
              "      <td>2.657757e+09</td>\n",
              "      <td>1.405291e+09</td>\n",
              "      <td>696288000.0</td>\n",
              "      <td>303421000.0</td>\n",
              "    </tr>\n",
              "    <tr>\n",
              "      <th>Long Term Investments</th>\n",
              "      <td>2.679500e+07</td>\n",
              "      <td>6.059000e+06</td>\n",
              "      <td>3035000.0</td>\n",
              "      <td>2165000.0</td>\n",
              "    </tr>\n",
              "    <tr>\n",
              "      <th>Net Tangible Assets</th>\n",
              "      <td>1.075580e+09</td>\n",
              "      <td>8.370840e+08</td>\n",
              "      <td>556487000.0</td>\n",
              "      <td>111060000.0</td>\n",
              "    </tr>\n",
              "    <tr>\n",
              "      <th>Short Term Investments</th>\n",
              "      <td>2.678800e+07</td>\n",
              "      <td>1.066000e+07</td>\n",
              "      <td>3003000.0</td>\n",
              "      <td>235000.0</td>\n",
              "    </tr>\n",
              "    <tr>\n",
              "      <th>Net Receivables</th>\n",
              "      <td>1.465042e+09</td>\n",
              "      <td>7.818950e+08</td>\n",
              "      <td>452699000.0</td>\n",
              "      <td>239068000.0</td>\n",
              "    </tr>\n",
              "    <tr>\n",
              "      <th>Long Term Debt</th>\n",
              "      <td>1.286383e+09</td>\n",
              "      <td>4.616000e+08</td>\n",
              "      <td>49881000.0</td>\n",
              "      <td>161162000.0</td>\n",
              "    </tr>\n",
              "    <tr>\n",
              "      <th>Accounts Payable</th>\n",
              "      <td>3.062590e+08</td>\n",
              "      <td>1.826130e+08</td>\n",
              "      <td>111753000.0</td>\n",
              "      <td>42916000.0</td>\n",
              "    </tr>\n",
              "    <tr>\n",
              "      <th>Short Long Term Debt</th>\n",
              "      <td>NaN</td>\n",
              "      <td>NaN</td>\n",
              "      <td>NaN</td>\n",
              "      <td>50000.0</td>\n",
              "    </tr>\n",
              "  </tbody>\n",
              "</table>\n",
              "</div>"
            ],
            "text/plain": [
              "                                    2021-06-30  ...   2018-06-30\n",
              "Intangible Assets                 1.152170e+08  ...   48920000.0\n",
              "Total Liab                        1.812321e+09  ...  208670000.0\n",
              "Total Stockholder Equity          1.303093e+09  ...  183555000.0\n",
              "Minority Interest                 8.130000e+05  ...          NaN\n",
              "Other Current Liab                6.614000e+06  ...    1834000.0\n",
              "Total Assets                      3.116227e+09  ...  392225000.0\n",
              "Common Stock                      2.204450e+09  ...  192628000.0\n",
              "Other Current Assets              1.878000e+07  ...   31559000.0\n",
              "Retained Earnings                -2.466530e+08  ...  -22195000.0\n",
              "Other Liab                        1.685420e+08  ...     522000.0\n",
              "Good Will                         1.122960e+08  ...   23575000.0\n",
              "Treasury Stock                   -6.547040e+08  ...   13122000.0\n",
              "Other Assets                      1.620920e+08  ...   10136000.0\n",
              "Cash                              1.147147e+09  ...   32559000.0\n",
              "Total Current Liabilities         3.253970e+08  ...   46593000.0\n",
              "Deferred Long Term Asset Charges  1.561270e+08  ...    9261000.0\n",
              "Other Stockholder Equity         -6.547040e+08  ...   13122000.0\n",
              "Property Plant Equipment          4.207000e+07  ...    4008000.0\n",
              "Total Current Assets              2.657757e+09  ...  303421000.0\n",
              "Long Term Investments             2.679500e+07  ...    2165000.0\n",
              "Net Tangible Assets               1.075580e+09  ...  111060000.0\n",
              "Short Term Investments            2.678800e+07  ...     235000.0\n",
              "Net Receivables                   1.465042e+09  ...  239068000.0\n",
              "Long Term Debt                    1.286383e+09  ...  161162000.0\n",
              "Accounts Payable                  3.062590e+08  ...   42916000.0\n",
              "Short Long Term Debt                       NaN  ...      50000.0\n",
              "\n",
              "[26 rows x 4 columns]"
            ]
          },
          "metadata": {},
          "execution_count": 40
        }
      ]
    },
    {
      "cell_type": "code",
      "metadata": {
        "id": "uXtTez5Uu0rM"
      },
      "source": [
        "col.balance_sheet"
      ],
      "execution_count": null,
      "outputs": []
    },
    {
      "cell_type": "code",
      "metadata": {
        "id": "d2eXAGYuu17A"
      },
      "source": [
        "wow.balance_sheet"
      ],
      "execution_count": null,
      "outputs": []
    },
    {
      "cell_type": "code",
      "metadata": {
        "id": "QLAxWyRNu3QQ"
      },
      "source": [
        "tls.balance_sheet"
      ],
      "execution_count": null,
      "outputs": []
    },
    {
      "cell_type": "code",
      "metadata": {
        "id": "xiv46CZBu4ah"
      },
      "source": [
        "art.balance_sheet"
      ],
      "execution_count": null,
      "outputs": []
    },
    {
      "cell_type": "markdown",
      "metadata": {
        "id": "bYicPzagvAll"
      },
      "source": [
        "#Data"
      ]
    },
    {
      "cell_type": "code",
      "metadata": {
        "id": "HaTZQvjkvB9X"
      },
      "source": [
        "aptdata=yf.download(\"APT.AX\", period='max')\n",
        "coldata=yf.download(\"COL.AX\", period='max')\n",
        "wowdata=yf.download(\"WOW.AX\", period='max')\n",
        "tlsdata=yf.download(\"TLS.AX\", period='max')\n",
        "artdata=yf.download(\"ART.AX\", period='max')"
      ],
      "execution_count": null,
      "outputs": []
    },
    {
      "cell_type": "markdown",
      "metadata": {
        "id": "5XSDLrc7vW_H"
      },
      "source": [
        "#5 Year Stock Price Graphs"
      ]
    },
    {
      "cell_type": "code",
      "metadata": {
        "colab": {
          "base_uri": "https://localhost:8080/",
          "height": 310
        },
        "id": "zYQK_tGSvWbO",
        "outputId": "b738de0a-32e4-4216-fad4-4451e759a909"
      },
      "source": [
        "aptticker = yf.Ticker('APT.AX')\n",
        "apt_df    = aptticker.history(period=\"5y\")\n",
        "apt_df.rename(columns = {'Close':'APT Close'}, inplace = True)\n",
        "apt_df['APT Close'].plot(title=\"Afterpay Stock Price\")"
      ],
      "execution_count": 14,
      "outputs": [
        {
          "output_type": "execute_result",
          "data": {
            "text/plain": [
              "<matplotlib.axes._subplots.AxesSubplot at 0x7f138a1893d0>"
            ]
          },
          "metadata": {},
          "execution_count": 14
        },
        {
          "output_type": "display_data",
          "data": {
            "image/png": "[encoded data removed]",
            "text/plain": [
              "<Figure size 432x288 with 1 Axes>"
            ]
          },
          "metadata": {
            "needs_background": "light"
          }
        }
      ]
    },
    {
      "cell_type": "code",
      "metadata": {
        "colab": {
          "base_uri": "https://localhost:8080/",
          "height": 310
        },
        "id": "LPfxZ-Rgva1R",
        "outputId": "ecb54548-cd80-4bbd-d093-c628a3c60ad6"
      },
      "source": [
        "colticker = yf.Ticker('COL.AX')\n",
        "col_df    = colticker.history(period=\"5y\")\n",
        "col_df.rename(columns = {'Close':'COL Close'}, inplace = True)\n",
        "col_df['COL Close'].plot(title=\"Coles Group Stock Price\")"
      ],
      "execution_count": 15,
      "outputs": [
        {
          "output_type": "execute_result",
          "data": {
            "text/plain": [
              "<matplotlib.axes._subplots.AxesSubplot at 0x7f138a30f910>"
            ]
          },
          "metadata": {},
          "execution_count": 15
        },
        {
          "output_type": "display_data",
          "data": {
            "image/png": "[encoded data removed]",
            "text/plain": [
              "<Figure size 432x288 with 1 Axes>"
            ]
          },
          "metadata": {
            "needs_background": "light"
          }
        }
      ]
    },
    {
      "cell_type": "code",
      "metadata": {
        "colab": {
          "base_uri": "https://localhost:8080/",
          "height": 302
        },
        "id": "eD4y0bfhvbcc",
        "outputId": "64279581-c2c5-4af1-a234-4a9164d24c6e"
      },
      "source": [
        "wowticker = yf.Ticker('WOW.AX')\n",
        "wow_df    = wowticker.history(period=\"5y\")\n",
        "wow_df.rename(columns = {'Close':'WOW Close'}, inplace = True)\n",
        "wow_df['WOW Close'].plot(title=\"Woolworths Group Stock Price\")"
      ],
      "execution_count": 16,
      "outputs": [
        {
          "output_type": "execute_result",
          "data": {
            "text/plain": [
              "<matplotlib.axes._subplots.AxesSubplot at 0x7f138bea7e10>"
            ]
          },
          "metadata": {},
          "execution_count": 16
        },
        {
          "output_type": "display_data",
          "data": {
            "image/png": "[encoded data removed]",
            "text/plain": [
              "<Figure size 432x288 with 1 Axes>"
            ]
          },
          "metadata": {
            "needs_background": "light"
          }
        }
      ]
    },
    {
      "cell_type": "code",
      "metadata": {
        "colab": {
          "base_uri": "https://localhost:8080/",
          "height": 302
        },
        "id": "wO7ILbW2vcEd",
        "outputId": "5bd0e22a-6be6-405c-a947-cb7ec7116f93"
      },
      "source": [
        "tlsticker = yf.Ticker('TLS.AX')\n",
        "tls_df    = tlsticker.history(period=\"5y\")\n",
        "tls_df.rename(columns = {'Close':'TLS Close'}, inplace = True)\n",
        "tls_df['TLS Close'].plot(title=\"Telstra Corporation Stock Price\")"
      ],
      "execution_count": 17,
      "outputs": [
        {
          "output_type": "execute_result",
          "data": {
            "text/plain": [
              "<matplotlib.axes._subplots.AxesSubplot at 0x7f13893bad50>"
            ]
          },
          "metadata": {},
          "execution_count": 17
        },
        {
          "output_type": "display_data",
          "data": {
            "image/png": "[encoded data removed]",
            "text/plain": [
              "<Figure size 432x288 with 1 Axes>"
            ]
          },
          "metadata": {
            "needs_background": "light"
          }
        }
      ]
    },
    {
      "cell_type": "code",
      "metadata": {
        "colab": {
          "base_uri": "https://localhost:8080/",
          "height": 310
        },
        "id": "7YsZhnatvcf9",
        "outputId": "18d5bd48-9d1b-4425-e0ee-c6d7ebe5a6cd"
      },
      "source": [
        "artticker = yf.Ticker('ART.AX')\n",
        "art_df    = artticker.history(period=\"5y\")\n",
        "art_df.rename(columns = {'Close':'ART Close'}, inplace = True)\n",
        "art_df['ART Close'].plot(title=\"Airtasker Stock Price\")"
      ],
      "execution_count": 18,
      "outputs": [
        {
          "output_type": "execute_result",
          "data": {
            "text/plain": [
              "<matplotlib.axes._subplots.AxesSubplot at 0x7f13892d0d50>"
            ]
          },
          "metadata": {},
          "execution_count": 18
        },
        {
          "output_type": "display_data",
          "data": {
            "image/png": "[encoded data removed]",
            "text/plain": [
              "<Figure size 432x288 with 1 Axes>"
            ]
          },
          "metadata": {
            "needs_background": "light"
          }
        }
      ]
    },
    {
      "cell_type": "code",
      "metadata": {
        "id": "dt2FP3HGwjzO"
      },
      "source": [
        "import pandas as pd\n",
        "df = pd.concat([apt_df['APT Close'], col_df['COL Close'], wow_df['WOW Close'],tls_df['TLS Close'], art_df['ART Close']], axis=1)"
      ],
      "execution_count": 19,
      "outputs": []
    },
    {
      "cell_type": "code",
      "metadata": {
        "colab": {
          "base_uri": "https://localhost:8080/",
          "height": 238
        },
        "id": "OARUr2qyw6tr",
        "outputId": "4bb1efad-37fa-4096-f0b9-eee35663e606"
      },
      "source": [
        "df.head()"
      ],
      "execution_count": 20,
      "outputs": [
        {
          "output_type": "execute_result",
          "data": {
            "text/html": [
              "<div>\n",
              "<style scoped>\n",
              "    .dataframe tbody tr th:only-of-type {\n",
              "        vertical-align: middle;\n",
              "    }\n",
              "\n",
              "    .dataframe tbody tr th {\n",
              "        vertical-align: top;\n",
              "    }\n",
              "\n",
              "    .dataframe thead th {\n",
              "        text-align: right;\n",
              "    }\n",
              "</style>\n",
              "<table border=\"1\" class=\"dataframe\">\n",
              "  <thead>\n",
              "    <tr style=\"text-align: right;\">\n",
              "      <th></th>\n",
              "      <th>APT Close</th>\n",
              "      <th>COL Close</th>\n",
              "      <th>WOW Close</th>\n",
              "      <th>TLS Close</th>\n",
              "      <th>ART Close</th>\n",
              "    </tr>\n",
              "    <tr>\n",
              "      <th>Date</th>\n",
              "      <th></th>\n",
              "      <th></th>\n",
              "      <th></th>\n",
              "      <th></th>\n",
              "      <th></th>\n",
              "    </tr>\n",
              "  </thead>\n",
              "  <tbody>\n",
              "    <tr>\n",
              "      <th>2016-11-28</th>\n",
              "      <td>NaN</td>\n",
              "      <td>NaN</td>\n",
              "      <td>20.324518</td>\n",
              "      <td>4.347471</td>\n",
              "      <td>NaN</td>\n",
              "    </tr>\n",
              "    <tr>\n",
              "      <th>2016-11-29</th>\n",
              "      <td>NaN</td>\n",
              "      <td>NaN</td>\n",
              "      <td>20.149683</td>\n",
              "      <td>4.347471</td>\n",
              "      <td>NaN</td>\n",
              "    </tr>\n",
              "    <tr>\n",
              "      <th>2016-11-30</th>\n",
              "      <td>NaN</td>\n",
              "      <td>NaN</td>\n",
              "      <td>20.009815</td>\n",
              "      <td>4.356097</td>\n",
              "      <td>NaN</td>\n",
              "    </tr>\n",
              "    <tr>\n",
              "      <th>2016-12-01</th>\n",
              "      <td>NaN</td>\n",
              "      <td>NaN</td>\n",
              "      <td>20.228355</td>\n",
              "      <td>4.312967</td>\n",
              "      <td>NaN</td>\n",
              "    </tr>\n",
              "    <tr>\n",
              "      <th>2016-12-02</th>\n",
              "      <td>NaN</td>\n",
              "      <td>NaN</td>\n",
              "      <td>20.053524</td>\n",
              "      <td>4.269837</td>\n",
              "      <td>NaN</td>\n",
              "    </tr>\n",
              "  </tbody>\n",
              "</table>\n",
              "</div>"
            ],
            "text/plain": [
              "            APT Close  COL Close  WOW Close  TLS Close  ART Close\n",
              "Date                                                             \n",
              "2016-11-28        NaN        NaN  20.324518   4.347471        NaN\n",
              "2016-11-29        NaN        NaN  20.149683   4.347471        NaN\n",
              "2016-11-30        NaN        NaN  20.009815   4.356097        NaN\n",
              "2016-12-01        NaN        NaN  20.228355   4.312967        NaN\n",
              "2016-12-02        NaN        NaN  20.053524   4.269837        NaN"
            ]
          },
          "metadata": {},
          "execution_count": 20
        }
      ]
    },
    {
      "cell_type": "markdown",
      "metadata": {
        "id": "pwy3pnGIxA8e"
      },
      "source": [
        "#5 year plot for comparison"
      ]
    },
    {
      "cell_type": "code",
      "metadata": {
        "colab": {
          "base_uri": "https://localhost:8080/",
          "height": 373
        },
        "id": "tBqKXFBPxDvv",
        "outputId": "ebd1a58e-290a-440c-a3e6-138a95bdad8e"
      },
      "source": [
        "import matplotlib as plt\n",
        "df.plot()\n",
        "fig = plt.pyplot.gcf()\n",
        "fig.set_size_inches(18.5, 10.5)"
      ],
      "execution_count": 21,
      "outputs": [
        {
          "output_type": "display_data",
          "data": {
            "image/png": "[encoded data removed]",
            "text/plain": [
              "<Figure size 1332x756 with 1 Axes>"
            ]
          },
          "metadata": {
            "needs_background": "light"
          }
        }
      ]
    },
    {
      "cell_type": "code",
      "metadata": {
        "id": "V3oLtTUqxJ63"
      },
      "source": [
        "returns=df.pct_change()"
      ],
      "execution_count": 22,
      "outputs": []
    },
    {
      "cell_type": "code",
      "metadata": {
        "colab": {
          "base_uri": "https://localhost:8080/",
          "height": 238
        },
        "id": "o1M-iy0kxMKc",
        "outputId": "837ca91f-32f8-40e1-b9e0-7adfb7f9659a"
      },
      "source": [
        "returns.tail()"
      ],
      "execution_count": 23,
      "outputs": [
        {
          "output_type": "execute_result",
          "data": {
            "text/html": [
              "<div>\n",
              "<style scoped>\n",
              "    .dataframe tbody tr th:only-of-type {\n",
              "        vertical-align: middle;\n",
              "    }\n",
              "\n",
              "    .dataframe tbody tr th {\n",
              "        vertical-align: top;\n",
              "    }\n",
              "\n",
              "    .dataframe thead th {\n",
              "        text-align: right;\n",
              "    }\n",
              "</style>\n",
              "<table border=\"1\" class=\"dataframe\">\n",
              "  <thead>\n",
              "    <tr style=\"text-align: right;\">\n",
              "      <th></th>\n",
              "      <th>APT Close</th>\n",
              "      <th>COL Close</th>\n",
              "      <th>WOW Close</th>\n",
              "      <th>TLS Close</th>\n",
              "      <th>ART Close</th>\n",
              "    </tr>\n",
              "    <tr>\n",
              "      <th>Date</th>\n",
              "      <th></th>\n",
              "      <th></th>\n",
              "      <th></th>\n",
              "      <th></th>\n",
              "      <th></th>\n",
              "    </tr>\n",
              "  </thead>\n",
              "  <tbody>\n",
              "    <tr>\n",
              "      <th>2021-11-22</th>\n",
              "      <td>-0.024652</td>\n",
              "      <td>0.007218</td>\n",
              "      <td>0.006464</td>\n",
              "      <td>0.000000</td>\n",
              "      <td>0.000000</td>\n",
              "    </tr>\n",
              "    <tr>\n",
              "      <th>2021-11-23</th>\n",
              "      <td>-0.053721</td>\n",
              "      <td>0.004410</td>\n",
              "      <td>0.007905</td>\n",
              "      <td>0.002463</td>\n",
              "      <td>-0.009709</td>\n",
              "    </tr>\n",
              "    <tr>\n",
              "      <th>2021-11-24</th>\n",
              "      <td>-0.001861</td>\n",
              "      <td>-0.007135</td>\n",
              "      <td>-0.000245</td>\n",
              "      <td>0.000000</td>\n",
              "      <td>-0.024510</td>\n",
              "    </tr>\n",
              "    <tr>\n",
              "      <th>2021-11-25</th>\n",
              "      <td>0.041865</td>\n",
              "      <td>-0.001106</td>\n",
              "      <td>-0.007110</td>\n",
              "      <td>0.002457</td>\n",
              "      <td>-0.015075</td>\n",
              "    </tr>\n",
              "    <tr>\n",
              "      <th>2021-11-26</th>\n",
              "      <td>-0.023716</td>\n",
              "      <td>-0.003320</td>\n",
              "      <td>-0.004691</td>\n",
              "      <td>-0.007353</td>\n",
              "      <td>-0.005102</td>\n",
              "    </tr>\n",
              "  </tbody>\n",
              "</table>\n",
              "</div>"
            ],
            "text/plain": [
              "            APT Close  COL Close  WOW Close  TLS Close  ART Close\n",
              "Date                                                             \n",
              "2021-11-22  -0.024652   0.007218   0.006464   0.000000   0.000000\n",
              "2021-11-23  -0.053721   0.004410   0.007905   0.002463  -0.009709\n",
              "2021-11-24  -0.001861  -0.007135  -0.000245   0.000000  -0.024510\n",
              "2021-11-25   0.041865  -0.001106  -0.007110   0.002457  -0.015075\n",
              "2021-11-26  -0.023716  -0.003320  -0.004691  -0.007353  -0.005102"
            ]
          },
          "metadata": {},
          "execution_count": 23
        }
      ]
    },
    {
      "cell_type": "markdown",
      "metadata": {
        "id": "wAgZlOw3xR0e"
      },
      "source": [
        "#Setting up a hypothetical portfolio"
      ]
    },
    {
      "cell_type": "code",
      "metadata": {
        "id": "D21aT1vcxRIr"
      },
      "source": [
        "import numpy as np\n",
        "weights   = np.array([.20, .20, .20, .20, .20]) #Allocating equal weights to the stocks in our portfolio\n",
        "initinv   = 1000000 #Initial investment in dollars"
      ],
      "execution_count": 24,
      "outputs": []
    },
    {
      "cell_type": "code",
      "metadata": {
        "colab": {
          "base_uri": "https://localhost:8080/",
          "height": 206
        },
        "id": "8jvGDdW5xcCE",
        "outputId": "cd9b9cb3-8e55-4487-c996-60163a7785c9"
      },
      "source": [
        "cov_matrix = returns.cov()\n",
        "cov_matrix"
      ],
      "execution_count": 25,
      "outputs": [
        {
          "output_type": "execute_result",
          "data": {
            "text/html": [
              "<div>\n",
              "<style scoped>\n",
              "    .dataframe tbody tr th:only-of-type {\n",
              "        vertical-align: middle;\n",
              "    }\n",
              "\n",
              "    .dataframe tbody tr th {\n",
              "        vertical-align: top;\n",
              "    }\n",
              "\n",
              "    .dataframe thead th {\n",
              "        text-align: right;\n",
              "    }\n",
              "</style>\n",
              "<table border=\"1\" class=\"dataframe\">\n",
              "  <thead>\n",
              "    <tr style=\"text-align: right;\">\n",
              "      <th></th>\n",
              "      <th>APT Close</th>\n",
              "      <th>COL Close</th>\n",
              "      <th>WOW Close</th>\n",
              "      <th>TLS Close</th>\n",
              "      <th>ART Close</th>\n",
              "    </tr>\n",
              "  </thead>\n",
              "  <tbody>\n",
              "    <tr>\n",
              "      <th>APT Close</th>\n",
              "      <td>0.002129</td>\n",
              "      <td>0.000160</td>\n",
              "      <td>0.000090</td>\n",
              "      <td>0.000087</td>\n",
              "      <td>0.000277</td>\n",
              "    </tr>\n",
              "    <tr>\n",
              "      <th>COL Close</th>\n",
              "      <td>0.000160</td>\n",
              "      <td>0.000229</td>\n",
              "      <td>0.000134</td>\n",
              "      <td>0.000086</td>\n",
              "      <td>0.000046</td>\n",
              "    </tr>\n",
              "    <tr>\n",
              "      <th>WOW Close</th>\n",
              "      <td>0.000090</td>\n",
              "      <td>0.000134</td>\n",
              "      <td>0.000160</td>\n",
              "      <td>0.000060</td>\n",
              "      <td>0.000053</td>\n",
              "    </tr>\n",
              "    <tr>\n",
              "      <th>TLS Close</th>\n",
              "      <td>0.000087</td>\n",
              "      <td>0.000086</td>\n",
              "      <td>0.000060</td>\n",
              "      <td>0.000202</td>\n",
              "      <td>-0.000034</td>\n",
              "    </tr>\n",
              "    <tr>\n",
              "      <th>ART Close</th>\n",
              "      <td>0.000277</td>\n",
              "      <td>0.000046</td>\n",
              "      <td>0.000053</td>\n",
              "      <td>-0.000034</td>\n",
              "      <td>0.004003</td>\n",
              "    </tr>\n",
              "  </tbody>\n",
              "</table>\n",
              "</div>"
            ],
            "text/plain": [
              "           APT Close  COL Close  WOW Close  TLS Close  ART Close\n",
              "APT Close   0.002129   0.000160   0.000090   0.000087   0.000277\n",
              "COL Close   0.000160   0.000229   0.000134   0.000086   0.000046\n",
              "WOW Close   0.000090   0.000134   0.000160   0.000060   0.000053\n",
              "TLS Close   0.000087   0.000086   0.000060   0.000202  -0.000034\n",
              "ART Close   0.000277   0.000046   0.000053  -0.000034   0.004003"
            ]
          },
          "metadata": {},
          "execution_count": 25
        }
      ]
    },
    {
      "cell_type": "code",
      "metadata": {
        "colab": {
          "base_uri": "https://localhost:8080/"
        },
        "id": "4q-0IpVjxfVp",
        "outputId": "6e243dde-1513-4270-902a-b33e50248f01"
      },
      "source": [
        "avgreturns = returns.mean()\n",
        "avgreturns"
      ],
      "execution_count": 26,
      "outputs": [
        {
          "output_type": "execute_result",
          "data": {
            "text/plain": [
              "APT Close    0.004357\n",
              "COL Close    0.000671\n",
              "WOW Close    0.000622\n",
              "TLS Close    0.000046\n",
              "ART Close    0.001203\n",
              "dtype: float64"
            ]
          },
          "metadata": {},
          "execution_count": 26
        }
      ]
    },
    {
      "cell_type": "code",
      "metadata": {
        "id": "gFUb_mimxifN"
      },
      "source": [
        "portfoliomean  = avgreturns.dot(weights)\n",
        "portfoliostd   = np.sqrt(weights.T.dot(cov_matrix).dot(weights))  \n",
        "invmean        = (1+portfoliomean) * initinv\n",
        "invstd         = initinv * portfoliostd  "
      ],
      "execution_count": 29,
      "outputs": []
    },
    {
      "cell_type": "code",
      "metadata": {
        "id": "YiBw9b31xnTE"
      },
      "source": [
        "from scipy.stats import norm\n",
        "conf = 0.05\n",
        "confcutoff = norm.ppf(conf, invmean, invstd) \n",
        "var = initinv - confcutoff      "
      ],
      "execution_count": 30,
      "outputs": []
    },
    {
      "cell_type": "code",
      "metadata": {
        "colab": {
          "base_uri": "https://localhost:8080/"
        },
        "id": "yZutyX4rx3-v",
        "outputId": "314edc2c-9087-45e8-bece-2d1a04096cfb"
      },
      "source": [
        "var"
      ],
      "execution_count": 31,
      "outputs": [
        {
          "output_type": "execute_result",
          "data": {
            "text/plain": [
              "29198.582830677507"
            ]
          },
          "metadata": {},
          "execution_count": 31
        }
      ]
    },
    {
      "cell_type": "markdown",
      "metadata": {
        "id": "fGTmvrgpx97k"
      },
      "source": [
        "#Interpretation\n",
        "\n",
        "The VaR value above of 29,198 means that:\n",
        "\n",
        "We can say with 95% confidence that on an initial investment of AUD 1 million, our losses will NOT exceed AUD 29,198."
      ]
    }
  ]
}