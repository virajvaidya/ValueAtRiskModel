{
  "nbformat": 4,
  "nbformat_minor": 0,
  "metadata": {
    "colab": {
      "name": "AUSONG.ipynb",
      "provenance": [],
      "authorship_tag": "ABX9TyPRLfeKmdiuZjUWH3rh7An7",
      "include_colab_link": true
    },
    "kernelspec": {
      "name": "python3",
      "display_name": "Python 3"
    },
    "language_info": {
      "name": "python"
    }
  },
  "cells": [
    {
      "cell_type": "markdown",
      "metadata": {
        "id": "view-in-github",
        "colab_type": "text"
      },
      "source": [
        "<a href=\"https://colab.research.google.com/github/virajvaidya/ValueAtRiskModel/blob/main/AUSONG.ipynb\" target=\"_parent\"><img src=\"https://colab.research.google.com/assets/colab-badge.svg\" alt=\"Open In Colab\"/></a>"
      ]
    },
    {
      "cell_type": "code",
      "metadata": {
        "id": "ob-MPIUzrWPC"
      },
      "source": [
        "!pip install yfinance\n",
        "\n",
        "from scipy.stats import norm\n",
        "\n",
        "import yfinance          as yf\n",
        "import pandas            as pd\n",
        "import numpy             as np\n",
        "import datetime          as dt\n",
        "import matplotlib.pyplot as plt\n",
        "\n",
        "import requests\n"
      ],
      "execution_count": null,
      "outputs": []
    },
    {
      "cell_type": "code",
      "metadata": {
        "id": "5ExZcv5XsYBf"
      },
      "source": [
        "org = yf.Ticker(\"ORG.AX\") #ORIGIN ENERGY\n",
        "bhp = yf.Ticker(\"BHP.AX\") #BHP\n",
        "sto = yf.Ticker(\"STO.AX\") #SANTOS\n",
        "wpl = yf.Ticker(\"WPL.AX\") #WOODSIDE PETROLEUM"
      ],
      "execution_count": 18,
      "outputs": []
    },
    {
      "cell_type": "markdown",
      "metadata": {
        "id": "4COGzrS_vG8A"
      },
      "source": [
        "#Stock info"
      ]
    },
    {
      "cell_type": "code",
      "metadata": {
        "colab": {
          "base_uri": "https://localhost:8080/"
        },
        "id": "Bx1yrT53uyZ6",
        "outputId": "3ebeeebd-bb95-4cd6-8562-e43966eef021"
      },
      "source": [
        "org.info"
      ],
      "execution_count": 96,
      "outputs": [
        {
          "output_type": "execute_result",
          "data": {
            "text/plain": [
              "{'52WeekChange': -0.040540516,\n",
              " 'SandP52WeekChange': 0.26866078,\n",
              " 'address1': 'Tower 1',\n",
              " 'address2': 'Level 32 100 Barangaroo Avenue',\n",
              " 'algorithm': None,\n",
              " 'annualHoldingsTurnover': None,\n",
              " 'annualReportExpenseRatio': None,\n",
              " 'ask': 4.98,\n",
              " 'askSize': 0,\n",
              " 'averageDailyVolume10Day': 5534614,\n",
              " 'averageVolume': 5996254,\n",
              " 'averageVolume10days': 5534614,\n",
              " 'beta': 1.570056,\n",
              " 'beta3Year': None,\n",
              " 'bid': 4.97,\n",
              " 'bidSize': 0,\n",
              " 'bookValue': 5.581,\n",
              " 'category': None,\n",
              " 'circulatingSupply': None,\n",
              " 'city': 'Barangaroo',\n",
              " 'companyOfficers': [],\n",
              " 'country': 'Australia',\n",
              " 'currency': 'AUD',\n",
              " 'currentPrice': 4.97,\n",
              " 'currentRatio': 0.721,\n",
              " 'dateShortInterest': None,\n",
              " 'dayHigh': 5.12,\n",
              " 'dayLow': 4.97,\n",
              " 'debtToEquity': 55.038,\n",
              " 'dividendRate': 0.2,\n",
              " 'dividendYield': 0.039100002,\n",
              " 'earningsGrowth': None,\n",
              " 'earningsQuarterlyGrowth': None,\n",
              " 'ebitda': 582000000,\n",
              " 'ebitdaMargins': 0.04797,\n",
              " 'enterpriseToEbitda': 22.761,\n",
              " 'enterpriseToRevenue': 1.092,\n",
              " 'enterpriseValue': 13247168512,\n",
              " 'exDividendDate': 1630972800,\n",
              " 'exchange': 'ASX',\n",
              " 'exchangeTimezoneName': 'Australia/Sydney',\n",
              " 'exchangeTimezoneShortName': 'AEDT',\n",
              " 'expireDate': None,\n",
              " 'fax': '61 2 9252 9244',\n",
              " 'fiftyDayAverage': 4.9596,\n",
              " 'fiftyTwoWeekHigh': 5.48,\n",
              " 'fiftyTwoWeekLow': 3.87,\n",
              " 'financialCurrency': 'AUD',\n",
              " 'fiveYearAverageReturn': None,\n",
              " 'fiveYearAvgDividendYield': None,\n",
              " 'floatShares': 1734980348,\n",
              " 'forwardEps': 0.33,\n",
              " 'forwardPE': 15.060605,\n",
              " 'freeCashflow': 729000000,\n",
              " 'fromCurrency': None,\n",
              " 'fullTimeEmployees': 5000,\n",
              " 'fundFamily': None,\n",
              " 'fundInceptionDate': None,\n",
              " 'gmtOffSetMilliseconds': '39600000',\n",
              " 'grossMargins': 0.15231,\n",
              " 'grossProfits': 1848000000,\n",
              " 'heldPercentInsiders': 0.0111,\n",
              " 'heldPercentInstitutions': 0.30918,\n",
              " 'impliedSharesOutstanding': None,\n",
              " 'industry': 'Oil & Gas Integrated',\n",
              " 'isEsgPopulated': False,\n",
              " 'lastCapGain': None,\n",
              " 'lastDividendDate': 1630972800,\n",
              " 'lastDividendValue': 0.075,\n",
              " 'lastFiscalYearEnd': 1625011200,\n",
              " 'lastMarket': None,\n",
              " 'lastSplitDate': 1109203200,\n",
              " 'lastSplitFactor': '1:1',\n",
              " 'legalType': None,\n",
              " 'logo_url': 'https://logo.clearbit.com/originenergy.com.au',\n",
              " 'longBusinessSummary': 'Origin Energy Limited, an integrated energy company, engages in the exploration and production of natural gas, electricity generation, wholesale and retail sale of electricity and gas, and sale of liquefied natural gas in Australia and internationally. The company operates through two segments, Energy Markets and Integrated Gas. Its exploration and production portfolio includes the Bowen and Surat basins in Queensland; the Browse basin in Western Australia; and the Beetaloo basin in the Northern Territory. The company also generates electricity from coal, wind, pumped water storage, solar, and cogeneration plants; sells electricity, natural gas, and LPG; provides GreenPower and green gas products; and supplies LPG to homes and businesses. In addition, it offers electric and gas hot water systems, as well as hot water systems repair and replacement services; split system air conditioners; ducted and space heating solutions; ducted evaporative cooling systems; and ducted reverse cycle air conditioning systems. Origin Energy Limited was incorporated in 1946 and is based in Barangaroo, Australia.',\n",
              " 'longName': 'Origin Energy Limited',\n",
              " 'market': 'au_market',\n",
              " 'marketCap': 8753213440,\n",
              " 'maxAge': 1,\n",
              " 'maxSupply': None,\n",
              " 'messageBoardId': 'finmb_874069',\n",
              " 'morningStarOverallRating': None,\n",
              " 'morningStarRiskRating': None,\n",
              " 'mostRecentQuarter': 1625011200,\n",
              " 'navPrice': None,\n",
              " 'netIncomeToCommon': -2291000064,\n",
              " 'nextFiscalYearEnd': 1688083200,\n",
              " 'numberOfAnalystOpinions': 8,\n",
              " 'open': 5.11,\n",
              " 'openInterest': None,\n",
              " 'operatingCashflow': 964000000,\n",
              " 'operatingMargins': 0.0239,\n",
              " 'payoutRatio': None,\n",
              " 'pegRatio': -1.26,\n",
              " 'phone': '61 2 8345 5000',\n",
              " 'preMarketPrice': None,\n",
              " 'previousClose': 5.12,\n",
              " 'priceHint': 4,\n",
              " 'priceToBook': 0.8905214,\n",
              " 'priceToSalesTrailing12Months': 0.7214385,\n",
              " 'profitMargins': -0.18882,\n",
              " 'quickRatio': 0.539,\n",
              " 'quoteType': 'EQUITY',\n",
              " 'recommendationKey': 'buy',\n",
              " 'recommendationMean': 2.2,\n",
              " 'regularMarketDayHigh': 5.12,\n",
              " 'regularMarketDayLow': 4.97,\n",
              " 'regularMarketOpen': 5.11,\n",
              " 'regularMarketPreviousClose': 5.12,\n",
              " 'regularMarketPrice': 4.97,\n",
              " 'regularMarketVolume': 2966364,\n",
              " 'returnOnAssets': 0.00786,\n",
              " 'returnOnEquity': -0.20332001,\n",
              " 'revenueGrowth': -0.058,\n",
              " 'revenuePerShare': 6.895,\n",
              " 'revenueQuarterlyGrowth': None,\n",
              " 'sector': 'Energy',\n",
              " 'sharesOutstanding': 1761209984,\n",
              " 'sharesPercentSharesOut': None,\n",
              " 'sharesShort': None,\n",
              " 'sharesShortPreviousMonthDate': None,\n",
              " 'sharesShortPriorMonth': None,\n",
              " 'shortName': 'ORIGIN ENE FPO',\n",
              " 'shortPercentOfFloat': None,\n",
              " 'shortRatio': None,\n",
              " 'startDate': None,\n",
              " 'state': 'NSW',\n",
              " 'strikePrice': None,\n",
              " 'symbol': 'ORG.AX',\n",
              " 'targetHighPrice': 6.45,\n",
              " 'targetLowPrice': 4.93,\n",
              " 'targetMeanPrice': 5.82,\n",
              " 'targetMedianPrice': 5.93,\n",
              " 'threeYearAverageReturn': None,\n",
              " 'toCurrency': None,\n",
              " 'totalAssets': None,\n",
              " 'totalCash': 898000000,\n",
              " 'totalCashPerShare': 0.512,\n",
              " 'totalDebt': 5401999872,\n",
              " 'totalRevenue': 12133000192,\n",
              " 'tradeable': False,\n",
              " 'trailingAnnualDividendRate': 0.2,\n",
              " 'trailingAnnualDividendYield': 0.0390625,\n",
              " 'trailingEps': -1.302,\n",
              " 'twoHundredDayAverage': 4.57605,\n",
              " 'volume': 2966364,\n",
              " 'volume24Hr': None,\n",
              " 'volumeAllCurrencies': None,\n",
              " 'website': 'http://www.originenergy.com.au',\n",
              " 'yield': None,\n",
              " 'ytdReturn': None,\n",
              " 'zip': '2000'}"
            ]
          },
          "metadata": {},
          "execution_count": 96
        }
      ]
    },
    {
      "cell_type": "code",
      "metadata": {
        "id": "kdz4RtvZs3ef"
      },
      "source": [
        "bhp.info"
      ],
      "execution_count": null,
      "outputs": []
    },
    {
      "cell_type": "code",
      "metadata": {
        "id": "RdquBIWrulOx"
      },
      "source": [
        "sto.info"
      ],
      "execution_count": null,
      "outputs": []
    },
    {
      "cell_type": "code",
      "metadata": {
        "id": "s-Y687W8uw1V"
      },
      "source": [
        "wpl.info"
      ],
      "execution_count": null,
      "outputs": []
    },
    {
      "cell_type": "markdown",
      "metadata": {
        "id": "2g1pZm8pvEjD"
      },
      "source": [
        "#Cashflow"
      ]
    },
    {
      "cell_type": "code",
      "metadata": {
        "colab": {
          "base_uri": "https://localhost:8080/",
          "height": 645
        },
        "id": "l5O1QgqRu__-",
        "outputId": "1ca4091d-8f52-4e35-9578-37203bf520d3"
      },
      "source": [
        "org.cashflow"
      ],
      "execution_count": 97,
      "outputs": [
        {
          "output_type": "execute_result",
          "data": {
            "text/html": [
              "<div>\n",
              "<style scoped>\n",
              "    .dataframe tbody tr th:only-of-type {\n",
              "        vertical-align: middle;\n",
              "    }\n",
              "\n",
              "    .dataframe tbody tr th {\n",
              "        vertical-align: top;\n",
              "    }\n",
              "\n",
              "    .dataframe thead th {\n",
              "        text-align: right;\n",
              "    }\n",
              "</style>\n",
              "<table border=\"1\" class=\"dataframe\">\n",
              "  <thead>\n",
              "    <tr style=\"text-align: right;\">\n",
              "      <th></th>\n",
              "      <th>2021-06-30</th>\n",
              "      <th>2020-06-30</th>\n",
              "      <th>2019-06-30</th>\n",
              "      <th>2018-06-30</th>\n",
              "    </tr>\n",
              "  </thead>\n",
              "  <tbody>\n",
              "    <tr>\n",
              "      <th>Investments</th>\n",
              "      <td>4.380000e+08</td>\n",
              "      <td>9.430000e+08</td>\n",
              "      <td>7.100000e+08</td>\n",
              "      <td>5.000000e+07</td>\n",
              "    </tr>\n",
              "    <tr>\n",
              "      <th>Change To Liabilities</th>\n",
              "      <td>4.500000e+08</td>\n",
              "      <td>-1.800000e+08</td>\n",
              "      <td>-1.750000e+08</td>\n",
              "      <td>1.280000e+08</td>\n",
              "    </tr>\n",
              "    <tr>\n",
              "      <th>Total Cashflows From Investing Activities</th>\n",
              "      <td>2.190000e+08</td>\n",
              "      <td>8.620000e+08</td>\n",
              "      <td>5.890000e+08</td>\n",
              "      <td>1.352000e+09</td>\n",
              "    </tr>\n",
              "    <tr>\n",
              "      <th>Net Borrowings</th>\n",
              "      <td>-1.118000e+09</td>\n",
              "      <td>-1.248000e+09</td>\n",
              "      <td>1.850000e+08</td>\n",
              "      <td>-1.599000e+09</td>\n",
              "    </tr>\n",
              "    <tr>\n",
              "      <th>Total Cash From Financing Activities</th>\n",
              "      <td>-1.949000e+09</td>\n",
              "      <td>-2.118000e+09</td>\n",
              "      <td>-5.200000e+08</td>\n",
              "      <td>-2.477000e+09</td>\n",
              "    </tr>\n",
              "    <tr>\n",
              "      <th>Change To Operating Activities</th>\n",
              "      <td>-1.390000e+08</td>\n",
              "      <td>4.270000e+08</td>\n",
              "      <td>1.890000e+08</td>\n",
              "      <td>-2.360000e+08</td>\n",
              "    </tr>\n",
              "    <tr>\n",
              "      <th>Net Income</th>\n",
              "      <td>-2.291000e+09</td>\n",
              "      <td>8.300000e+07</td>\n",
              "      <td>1.211000e+09</td>\n",
              "      <td>2.180000e+08</td>\n",
              "    </tr>\n",
              "    <tr>\n",
              "      <th>Change In Cash</th>\n",
              "      <td>-7.700000e+08</td>\n",
              "      <td>-3.070000e+08</td>\n",
              "      <td>1.396000e+09</td>\n",
              "      <td>-1.000000e+06</td>\n",
              "    </tr>\n",
              "    <tr>\n",
              "      <th>Repurchase Of Stock</th>\n",
              "      <td>-9.600000e+07</td>\n",
              "      <td>-7.500000e+07</td>\n",
              "      <td>-7.700000e+07</td>\n",
              "      <td>-7.700000e+07</td>\n",
              "    </tr>\n",
              "    <tr>\n",
              "      <th>Effect Of Exchange Rate</th>\n",
              "      <td>-2.000000e+06</td>\n",
              "      <td>-1.000000e+06</td>\n",
              "      <td>2.000000e+06</td>\n",
              "      <td>1.000000e+06</td>\n",
              "    </tr>\n",
              "    <tr>\n",
              "      <th>Total Cash From Operating Activities</th>\n",
              "      <td>9.640000e+08</td>\n",
              "      <td>9.510000e+08</td>\n",
              "      <td>1.325000e+09</td>\n",
              "      <td>1.123000e+09</td>\n",
              "    </tr>\n",
              "    <tr>\n",
              "      <th>Depreciation</th>\n",
              "      <td>3.800000e+08</td>\n",
              "      <td>3.790000e+08</td>\n",
              "      <td>2.910000e+08</td>\n",
              "      <td>2.630000e+08</td>\n",
              "    </tr>\n",
              "    <tr>\n",
              "      <th>Other Cashflows From Investing Activities</th>\n",
              "      <td>-4.800000e+07</td>\n",
              "      <td>3.080000e+08</td>\n",
              "      <td>1.160000e+08</td>\n",
              "      <td>1.430000e+08</td>\n",
              "    </tr>\n",
              "    <tr>\n",
              "      <th>Dividends Paid</th>\n",
              "      <td>-3.410000e+08</td>\n",
              "      <td>-4.750000e+08</td>\n",
              "      <td>-1.620000e+08</td>\n",
              "      <td>-1.620000e+08</td>\n",
              "    </tr>\n",
              "    <tr>\n",
              "      <th>Change To Inventory</th>\n",
              "      <td>5.000000e+07</td>\n",
              "      <td>-2.600000e+07</td>\n",
              "      <td>5.800000e+07</td>\n",
              "      <td>-6.600000e+07</td>\n",
              "    </tr>\n",
              "    <tr>\n",
              "      <th>Change To Account Receivables</th>\n",
              "      <td>-3.980000e+08</td>\n",
              "      <td>2.170000e+08</td>\n",
              "      <td>2.070000e+08</td>\n",
              "      <td>-3.210000e+08</td>\n",
              "    </tr>\n",
              "    <tr>\n",
              "      <th>Other Cashflows From Financing Activities</th>\n",
              "      <td>-3.940000e+08</td>\n",
              "      <td>-3.200000e+08</td>\n",
              "      <td>-4.660000e+08</td>\n",
              "      <td>-8.780000e+08</td>\n",
              "    </tr>\n",
              "    <tr>\n",
              "      <th>Change To Netincome</th>\n",
              "      <td>2.711000e+09</td>\n",
              "      <td>1.360000e+08</td>\n",
              "      <td>-4.740000e+08</td>\n",
              "      <td>1.057000e+09</td>\n",
              "    </tr>\n",
              "    <tr>\n",
              "      <th>Capital Expenditures</th>\n",
              "      <td>-1.710000e+08</td>\n",
              "      <td>-3.750000e+08</td>\n",
              "      <td>-2.080000e+08</td>\n",
              "      <td>-3.250000e+08</td>\n",
              "    </tr>\n",
              "  </tbody>\n",
              "</table>\n",
              "</div>"
            ],
            "text/plain": [
              "                                             2021-06-30  ...    2018-06-30\n",
              "Investments                                4.380000e+08  ...  5.000000e+07\n",
              "Change To Liabilities                      4.500000e+08  ...  1.280000e+08\n",
              "Total Cashflows From Investing Activities  2.190000e+08  ...  1.352000e+09\n",
              "Net Borrowings                            -1.118000e+09  ... -1.599000e+09\n",
              "Total Cash From Financing Activities      -1.949000e+09  ... -2.477000e+09\n",
              "Change To Operating Activities            -1.390000e+08  ... -2.360000e+08\n",
              "Net Income                                -2.291000e+09  ...  2.180000e+08\n",
              "Change In Cash                            -7.700000e+08  ... -1.000000e+06\n",
              "Repurchase Of Stock                       -9.600000e+07  ... -7.700000e+07\n",
              "Effect Of Exchange Rate                   -2.000000e+06  ...  1.000000e+06\n",
              "Total Cash From Operating Activities       9.640000e+08  ...  1.123000e+09\n",
              "Depreciation                               3.800000e+08  ...  2.630000e+08\n",
              "Other Cashflows From Investing Activities -4.800000e+07  ...  1.430000e+08\n",
              "Dividends Paid                            -3.410000e+08  ... -1.620000e+08\n",
              "Change To Inventory                        5.000000e+07  ... -6.600000e+07\n",
              "Change To Account Receivables             -3.980000e+08  ... -3.210000e+08\n",
              "Other Cashflows From Financing Activities -3.940000e+08  ... -8.780000e+08\n",
              "Change To Netincome                        2.711000e+09  ...  1.057000e+09\n",
              "Capital Expenditures                      -1.710000e+08  ... -3.250000e+08\n",
              "\n",
              "[19 rows x 4 columns]"
            ]
          },
          "metadata": {},
          "execution_count": 97
        }
      ]
    },
    {
      "cell_type": "code",
      "metadata": {
        "id": "gP4qXPQzvKLH"
      },
      "source": [
        "bhp.cashflow"
      ],
      "execution_count": null,
      "outputs": []
    },
    {
      "cell_type": "code",
      "metadata": {
        "id": "XrJwPzCqvM7f"
      },
      "source": [
        "sto.cashflow"
      ],
      "execution_count": null,
      "outputs": []
    },
    {
      "cell_type": "code",
      "metadata": {
        "id": "Aczkry5YvPCR"
      },
      "source": [
        "wpl.cashflow"
      ],
      "execution_count": null,
      "outputs": []
    },
    {
      "cell_type": "markdown",
      "metadata": {
        "id": "AInGuubOx56r"
      },
      "source": [
        "#Balance Sheet"
      ]
    },
    {
      "cell_type": "code",
      "metadata": {
        "colab": {
          "base_uri": "https://localhost:8080/",
          "height": 896
        },
        "id": "ZGoeDyJ3yAlD",
        "outputId": "c7c1f2c8-a36d-4452-ae31-fd30c9dcc555"
      },
      "source": [
        "org.balance_sheet"
      ],
      "execution_count": 98,
      "outputs": [
        {
          "output_type": "execute_result",
          "data": {
            "text/html": [
              "<div>\n",
              "<style scoped>\n",
              "    .dataframe tbody tr th:only-of-type {\n",
              "        vertical-align: middle;\n",
              "    }\n",
              "\n",
              "    .dataframe tbody tr th {\n",
              "        vertical-align: top;\n",
              "    }\n",
              "\n",
              "    .dataframe thead th {\n",
              "        text-align: right;\n",
              "    }\n",
              "</style>\n",
              "<table border=\"1\" class=\"dataframe\">\n",
              "  <thead>\n",
              "    <tr style=\"text-align: right;\">\n",
              "      <th></th>\n",
              "      <th>2021-06-30</th>\n",
              "      <th>2020-06-30</th>\n",
              "      <th>2019-06-30</th>\n",
              "      <th>2018-06-30</th>\n",
              "    </tr>\n",
              "  </thead>\n",
              "  <tbody>\n",
              "    <tr>\n",
              "      <th>Intangible Assets</th>\n",
              "      <td>5.620000e+08</td>\n",
              "      <td>6.020000e+08</td>\n",
              "      <td>5.630000e+08</td>\n",
              "      <td>5.080000e+08</td>\n",
              "    </tr>\n",
              "    <tr>\n",
              "      <th>Total Liab</th>\n",
              "      <td>1.122200e+10</td>\n",
              "      <td>1.239200e+10</td>\n",
              "      <td>1.259400e+10</td>\n",
              "      <td>1.242900e+10</td>\n",
              "    </tr>\n",
              "    <tr>\n",
              "      <th>Total Stockholder Equity</th>\n",
              "      <td>9.795000e+09</td>\n",
              "      <td>1.268000e+10</td>\n",
              "      <td>1.312900e+10</td>\n",
              "      <td>1.180400e+10</td>\n",
              "    </tr>\n",
              "    <tr>\n",
              "      <th>Minority Interest</th>\n",
              "      <td>2.000000e+07</td>\n",
              "      <td>2.100000e+07</td>\n",
              "      <td>2.000000e+07</td>\n",
              "      <td>2.400000e+07</td>\n",
              "    </tr>\n",
              "    <tr>\n",
              "      <th>Other Current Liab</th>\n",
              "      <td>1.445000e+09</td>\n",
              "      <td>1.103000e+09</td>\n",
              "      <td>1.018000e+09</td>\n",
              "      <td>1.117000e+09</td>\n",
              "    </tr>\n",
              "    <tr>\n",
              "      <th>Total Assets</th>\n",
              "      <td>2.103700e+10</td>\n",
              "      <td>2.509300e+10</td>\n",
              "      <td>2.574300e+10</td>\n",
              "      <td>2.425700e+10</td>\n",
              "    </tr>\n",
              "    <tr>\n",
              "      <th>Common Stock</th>\n",
              "      <td>7.163000e+09</td>\n",
              "      <td>7.163000e+09</td>\n",
              "      <td>7.163000e+09</td>\n",
              "      <td>7.150000e+09</td>\n",
              "    </tr>\n",
              "    <tr>\n",
              "      <th>Other Current Assets</th>\n",
              "      <td>9.670000e+08</td>\n",
              "      <td>7.480000e+08</td>\n",
              "      <td>6.110000e+08</td>\n",
              "      <td>4.450000e+08</td>\n",
              "    </tr>\n",
              "    <tr>\n",
              "      <th>Retained Earnings</th>\n",
              "      <td>2.132000e+09</td>\n",
              "      <td>4.819000e+09</td>\n",
              "      <td>4.915000e+09</td>\n",
              "      <td>4.025000e+09</td>\n",
              "    </tr>\n",
              "    <tr>\n",
              "      <th>Other Liab</th>\n",
              "      <td>1.939000e+09</td>\n",
              "      <td>2.130000e+09</td>\n",
              "      <td>1.460000e+09</td>\n",
              "      <td>1.308000e+09</td>\n",
              "    </tr>\n",
              "    <tr>\n",
              "      <th>Good Will</th>\n",
              "      <td>3.812000e+09</td>\n",
              "      <td>4.818000e+09</td>\n",
              "      <td>4.818000e+09</td>\n",
              "      <td>4.820000e+09</td>\n",
              "    </tr>\n",
              "    <tr>\n",
              "      <th>Treasury Stock</th>\n",
              "      <td>5.000000e+08</td>\n",
              "      <td>6.980000e+08</td>\n",
              "      <td>1.051000e+09</td>\n",
              "      <td>6.290000e+08</td>\n",
              "    </tr>\n",
              "    <tr>\n",
              "      <th>Other Assets</th>\n",
              "      <td>3.830000e+08</td>\n",
              "      <td>6.740000e+08</td>\n",
              "      <td>8.640000e+08</td>\n",
              "      <td>7.910000e+08</td>\n",
              "    </tr>\n",
              "    <tr>\n",
              "      <th>Cash</th>\n",
              "      <td>4.720000e+08</td>\n",
              "      <td>1.240000e+09</td>\n",
              "      <td>1.546000e+09</td>\n",
              "      <td>1.500000e+08</td>\n",
              "    </tr>\n",
              "    <tr>\n",
              "      <th>Total Current Liabilities</th>\n",
              "      <td>5.939000e+09</td>\n",
              "      <td>4.637000e+09</td>\n",
              "      <td>4.267000e+09</td>\n",
              "      <td>4.449000e+09</td>\n",
              "    </tr>\n",
              "    <tr>\n",
              "      <th>Short Long Term Debt</th>\n",
              "      <td>1.992000e+09</td>\n",
              "      <td>1.400000e+09</td>\n",
              "      <td>1.054000e+09</td>\n",
              "      <td>1.088000e+09</td>\n",
              "    </tr>\n",
              "    <tr>\n",
              "      <th>Other Stockholder Equity</th>\n",
              "      <td>5.250000e+08</td>\n",
              "      <td>7.160000e+08</td>\n",
              "      <td>1.089000e+09</td>\n",
              "      <td>6.290000e+08</td>\n",
              "    </tr>\n",
              "    <tr>\n",
              "      <th>Property Plant Equipment</th>\n",
              "      <td>3.536000e+09</td>\n",
              "      <td>4.521000e+09</td>\n",
              "      <td>3.695000e+09</td>\n",
              "      <td>4.059000e+09</td>\n",
              "    </tr>\n",
              "    <tr>\n",
              "      <th>Total Current Assets</th>\n",
              "      <td>4.283000e+09</td>\n",
              "      <td>4.666000e+09</td>\n",
              "      <td>5.163000e+09</td>\n",
              "      <td>3.766000e+09</td>\n",
              "    </tr>\n",
              "    <tr>\n",
              "      <th>Long Term Investments</th>\n",
              "      <td>8.461000e+09</td>\n",
              "      <td>9.812000e+09</td>\n",
              "      <td>1.064000e+10</td>\n",
              "      <td>1.031300e+10</td>\n",
              "    </tr>\n",
              "    <tr>\n",
              "      <th>Net Tangible Assets</th>\n",
              "      <td>5.421000e+09</td>\n",
              "      <td>7.260000e+09</td>\n",
              "      <td>7.748000e+09</td>\n",
              "      <td>6.476000e+09</td>\n",
              "    </tr>\n",
              "    <tr>\n",
              "      <th>Net Receivables</th>\n",
              "      <td>2.305000e+09</td>\n",
              "      <td>2.048000e+09</td>\n",
              "      <td>2.324000e+09</td>\n",
              "      <td>2.537000e+09</td>\n",
              "    </tr>\n",
              "    <tr>\n",
              "      <th>Long Term Debt</th>\n",
              "      <td>2.947000e+09</td>\n",
              "      <td>5.184000e+09</td>\n",
              "      <td>6.861000e+09</td>\n",
              "      <td>6.666000e+09</td>\n",
              "    </tr>\n",
              "    <tr>\n",
              "      <th>Inventory</th>\n",
              "      <td>1.130000e+08</td>\n",
              "      <td>1.640000e+08</td>\n",
              "      <td>1.370000e+08</td>\n",
              "      <td>1.960000e+08</td>\n",
              "    </tr>\n",
              "    <tr>\n",
              "      <th>Accounts Payable</th>\n",
              "      <td>2.205000e+09</td>\n",
              "      <td>1.827000e+09</td>\n",
              "      <td>2.005000e+09</td>\n",
              "      <td>2.068000e+09</td>\n",
              "    </tr>\n",
              "    <tr>\n",
              "      <th>Deferred Long Term Asset Charges</th>\n",
              "      <td>NaN</td>\n",
              "      <td>3.150000e+08</td>\n",
              "      <td>3.800000e+08</td>\n",
              "      <td>2.770000e+08</td>\n",
              "    </tr>\n",
              "    <tr>\n",
              "      <th>Short Term Investments</th>\n",
              "      <td>NaN</td>\n",
              "      <td>NaN</td>\n",
              "      <td>NaN</td>\n",
              "      <td>2.080000e+08</td>\n",
              "    </tr>\n",
              "  </tbody>\n",
              "</table>\n",
              "</div>"
            ],
            "text/plain": [
              "                                    2021-06-30  ...    2018-06-30\n",
              "Intangible Assets                 5.620000e+08  ...  5.080000e+08\n",
              "Total Liab                        1.122200e+10  ...  1.242900e+10\n",
              "Total Stockholder Equity          9.795000e+09  ...  1.180400e+10\n",
              "Minority Interest                 2.000000e+07  ...  2.400000e+07\n",
              "Other Current Liab                1.445000e+09  ...  1.117000e+09\n",
              "Total Assets                      2.103700e+10  ...  2.425700e+10\n",
              "Common Stock                      7.163000e+09  ...  7.150000e+09\n",
              "Other Current Assets              9.670000e+08  ...  4.450000e+08\n",
              "Retained Earnings                 2.132000e+09  ...  4.025000e+09\n",
              "Other Liab                        1.939000e+09  ...  1.308000e+09\n",
              "Good Will                         3.812000e+09  ...  4.820000e+09\n",
              "Treasury Stock                    5.000000e+08  ...  6.290000e+08\n",
              "Other Assets                      3.830000e+08  ...  7.910000e+08\n",
              "Cash                              4.720000e+08  ...  1.500000e+08\n",
              "Total Current Liabilities         5.939000e+09  ...  4.449000e+09\n",
              "Short Long Term Debt              1.992000e+09  ...  1.088000e+09\n",
              "Other Stockholder Equity          5.250000e+08  ...  6.290000e+08\n",
              "Property Plant Equipment          3.536000e+09  ...  4.059000e+09\n",
              "Total Current Assets              4.283000e+09  ...  3.766000e+09\n",
              "Long Term Investments             8.461000e+09  ...  1.031300e+10\n",
              "Net Tangible Assets               5.421000e+09  ...  6.476000e+09\n",
              "Net Receivables                   2.305000e+09  ...  2.537000e+09\n",
              "Long Term Debt                    2.947000e+09  ...  6.666000e+09\n",
              "Inventory                         1.130000e+08  ...  1.960000e+08\n",
              "Accounts Payable                  2.205000e+09  ...  2.068000e+09\n",
              "Deferred Long Term Asset Charges           NaN  ...  2.770000e+08\n",
              "Short Term Investments                     NaN  ...  2.080000e+08\n",
              "\n",
              "[27 rows x 4 columns]"
            ]
          },
          "metadata": {},
          "execution_count": 98
        }
      ]
    },
    {
      "cell_type": "code",
      "metadata": {
        "id": "GrxhCLyjyEqF"
      },
      "source": [
        "bhp.balance_sheet"
      ],
      "execution_count": null,
      "outputs": []
    },
    {
      "cell_type": "code",
      "metadata": {
        "id": "qzproIdvyFwN"
      },
      "source": [
        "sto.balance_sheet"
      ],
      "execution_count": null,
      "outputs": []
    },
    {
      "cell_type": "code",
      "metadata": {
        "id": "OZjVDKlSyGo2"
      },
      "source": [
        "wpl.balance_sheet"
      ],
      "execution_count": null,
      "outputs": []
    },
    {
      "cell_type": "markdown",
      "metadata": {
        "id": "N-745IrIxm0e"
      },
      "source": [
        "#Earnings"
      ]
    },
    {
      "cell_type": "code",
      "metadata": {
        "colab": {
          "base_uri": "https://localhost:8080/",
          "height": 206
        },
        "id": "aa-S2BAUxmPE",
        "outputId": "3ab9c7ce-dd3d-46f1-e7e1-74ccfe53f1a7"
      },
      "source": [
        "org.earnings"
      ],
      "execution_count": 99,
      "outputs": [
        {
          "output_type": "execute_result",
          "data": {
            "text/html": [
              "<div>\n",
              "<style scoped>\n",
              "    .dataframe tbody tr th:only-of-type {\n",
              "        vertical-align: middle;\n",
              "    }\n",
              "\n",
              "    .dataframe tbody tr th {\n",
              "        vertical-align: top;\n",
              "    }\n",
              "\n",
              "    .dataframe thead th {\n",
              "        text-align: right;\n",
              "    }\n",
              "</style>\n",
              "<table border=\"1\" class=\"dataframe\">\n",
              "  <thead>\n",
              "    <tr style=\"text-align: right;\">\n",
              "      <th></th>\n",
              "      <th>Revenue</th>\n",
              "      <th>Earnings</th>\n",
              "    </tr>\n",
              "    <tr>\n",
              "      <th>Year</th>\n",
              "      <th></th>\n",
              "      <th></th>\n",
              "    </tr>\n",
              "  </thead>\n",
              "  <tbody>\n",
              "    <tr>\n",
              "      <th>2018</th>\n",
              "      <td>14620000000</td>\n",
              "      <td>218000000</td>\n",
              "    </tr>\n",
              "    <tr>\n",
              "      <th>2019</th>\n",
              "      <td>14753000000</td>\n",
              "      <td>1211000000</td>\n",
              "    </tr>\n",
              "    <tr>\n",
              "      <th>2020</th>\n",
              "      <td>13171000000</td>\n",
              "      <td>83000000</td>\n",
              "    </tr>\n",
              "    <tr>\n",
              "      <th>2021</th>\n",
              "      <td>12133000000</td>\n",
              "      <td>-2291000000</td>\n",
              "    </tr>\n",
              "  </tbody>\n",
              "</table>\n",
              "</div>"
            ],
            "text/plain": [
              "          Revenue    Earnings\n",
              "Year                         \n",
              "2018  14620000000   218000000\n",
              "2019  14753000000  1211000000\n",
              "2020  13171000000    83000000\n",
              "2021  12133000000 -2291000000"
            ]
          },
          "metadata": {},
          "execution_count": 99
        }
      ]
    },
    {
      "cell_type": "code",
      "metadata": {
        "id": "uxIByJ5bxs_J"
      },
      "source": [
        "bhp.earnings"
      ],
      "execution_count": null,
      "outputs": []
    },
    {
      "cell_type": "code",
      "metadata": {
        "id": "XgaPfXHCxvre"
      },
      "source": [
        "sto.earnings"
      ],
      "execution_count": null,
      "outputs": []
    },
    {
      "cell_type": "code",
      "metadata": {
        "id": "kKFAfrk6xzWs"
      },
      "source": [
        "wpl.earnings"
      ],
      "execution_count": null,
      "outputs": []
    },
    {
      "cell_type": "markdown",
      "metadata": {
        "id": "JoasFfPAxOpV"
      },
      "source": [
        "#Institutional Holders"
      ]
    },
    {
      "cell_type": "code",
      "metadata": {
        "colab": {
          "base_uri": "https://localhost:8080/",
          "height": 363
        },
        "id": "oMRYs65SxRJL",
        "outputId": "f9e59f11-b2ab-4fd1-cff9-369ecfb7ba1c"
      },
      "source": [
        "org.institutional_holders"
      ],
      "execution_count": 100,
      "outputs": [
        {
          "output_type": "execute_result",
          "data": {
            "text/html": [
              "<div>\n",
              "<style scoped>\n",
              "    .dataframe tbody tr th:only-of-type {\n",
              "        vertical-align: middle;\n",
              "    }\n",
              "\n",
              "    .dataframe tbody tr th {\n",
              "        vertical-align: top;\n",
              "    }\n",
              "\n",
              "    .dataframe thead th {\n",
              "        text-align: right;\n",
              "    }\n",
              "</style>\n",
              "<table border=\"1\" class=\"dataframe\">\n",
              "  <thead>\n",
              "    <tr style=\"text-align: right;\">\n",
              "      <th></th>\n",
              "      <th>Holder</th>\n",
              "      <th>Shares</th>\n",
              "      <th>Date Reported</th>\n",
              "      <th>% Out</th>\n",
              "      <th>Value</th>\n",
              "    </tr>\n",
              "  </thead>\n",
              "  <tbody>\n",
              "    <tr>\n",
              "      <th>0</th>\n",
              "      <td>Vanguard International Stock Index-Total Intl ...</td>\n",
              "      <td>22340135</td>\n",
              "      <td>2021-07-31</td>\n",
              "      <td>0.0127</td>\n",
              "      <td>91817954</td>\n",
              "    </tr>\n",
              "    <tr>\n",
              "      <th>1</th>\n",
              "      <td>Vanguard Tax Managed Fund-Vanguard Developed M...</td>\n",
              "      <td>11661533</td>\n",
              "      <td>2021-06-30</td>\n",
              "      <td>0.0066</td>\n",
              "      <td>52593513</td>\n",
              "    </tr>\n",
              "    <tr>\n",
              "      <th>2</th>\n",
              "      <td>iShares Core MSCI EAFE ETF</td>\n",
              "      <td>8684734</td>\n",
              "      <td>2021-09-30</td>\n",
              "      <td>0.0049</td>\n",
              "      <td>41078791</td>\n",
              "    </tr>\n",
              "    <tr>\n",
              "      <th>3</th>\n",
              "      <td>Franklin Custodian Funds-Utilities Fund</td>\n",
              "      <td>7000000</td>\n",
              "      <td>2021-09-30</td>\n",
              "      <td>0.0040</td>\n",
              "      <td>33110000</td>\n",
              "    </tr>\n",
              "    <tr>\n",
              "      <th>4</th>\n",
              "      <td>iShares MSCI Eafe ETF</td>\n",
              "      <td>5860058</td>\n",
              "      <td>2021-09-30</td>\n",
              "      <td>0.0033</td>\n",
              "      <td>27718074</td>\n",
              "    </tr>\n",
              "    <tr>\n",
              "      <th>5</th>\n",
              "      <td>Fidelity International Index Fund</td>\n",
              "      <td>4008329</td>\n",
              "      <td>2021-09-30</td>\n",
              "      <td>0.0023</td>\n",
              "      <td>18959396</td>\n",
              "    </tr>\n",
              "    <tr>\n",
              "      <th>6</th>\n",
              "      <td>JP Morgan ETF Tr-BetaBuilders Developed Asia e...</td>\n",
              "      <td>3605597</td>\n",
              "      <td>2021-09-30</td>\n",
              "      <td>0.0020</td>\n",
              "      <td>17054473</td>\n",
              "    </tr>\n",
              "    <tr>\n",
              "      <th>7</th>\n",
              "      <td>DFA International Value Series</td>\n",
              "      <td>3515673</td>\n",
              "      <td>2021-07-31</td>\n",
              "      <td>0.0020</td>\n",
              "      <td>14449416</td>\n",
              "    </tr>\n",
              "    <tr>\n",
              "      <th>8</th>\n",
              "      <td>Vanguard Intl Equity Index Fds-FTSE All World ...</td>\n",
              "      <td>3458234</td>\n",
              "      <td>2021-07-31</td>\n",
              "      <td>0.0020</td>\n",
              "      <td>14213341</td>\n",
              "    </tr>\n",
              "    <tr>\n",
              "      <th>9</th>\n",
              "      <td>iShares MSCI Eafe Value ETF</td>\n",
              "      <td>3221365</td>\n",
              "      <td>2021-09-30</td>\n",
              "      <td>0.0018</td>\n",
              "      <td>15237056</td>\n",
              "    </tr>\n",
              "  </tbody>\n",
              "</table>\n",
              "</div>"
            ],
            "text/plain": [
              "                                              Holder  ...     Value\n",
              "0  Vanguard International Stock Index-Total Intl ...  ...  91817954\n",
              "1  Vanguard Tax Managed Fund-Vanguard Developed M...  ...  52593513\n",
              "2                         iShares Core MSCI EAFE ETF  ...  41078791\n",
              "3            Franklin Custodian Funds-Utilities Fund  ...  33110000\n",
              "4                              iShares MSCI Eafe ETF  ...  27718074\n",
              "5                  Fidelity International Index Fund  ...  18959396\n",
              "6  JP Morgan ETF Tr-BetaBuilders Developed Asia e...  ...  17054473\n",
              "7                     DFA International Value Series  ...  14449416\n",
              "8  Vanguard Intl Equity Index Fds-FTSE All World ...  ...  14213341\n",
              "9                        iShares MSCI Eafe Value ETF  ...  15237056\n",
              "\n",
              "[10 rows x 5 columns]"
            ]
          },
          "metadata": {},
          "execution_count": 100
        }
      ]
    },
    {
      "cell_type": "code",
      "metadata": {
        "id": "XPKEwplTxUni"
      },
      "source": [
        "bhp.institutional_holders"
      ],
      "execution_count": null,
      "outputs": []
    },
    {
      "cell_type": "code",
      "metadata": {
        "id": "iL8YdBjkxWac"
      },
      "source": [
        "sto.institutional_holders"
      ],
      "execution_count": null,
      "outputs": []
    },
    {
      "cell_type": "code",
      "metadata": {
        "id": "QTTbncmZxY3K"
      },
      "source": [
        "wpl.institutional_holders"
      ],
      "execution_count": null,
      "outputs": []
    },
    {
      "cell_type": "markdown",
      "metadata": {
        "id": "ZvrxXa3jyXQb"
      },
      "source": [
        "#Datasets"
      ]
    },
    {
      "cell_type": "code",
      "metadata": {
        "id": "W7_K4hkbyXAY"
      },
      "source": [
        "orgdata=yf.download(\"ORG.AX\", period='max')\n",
        "bhpdata=yf.download(\"BHP.AX\", period='max')\n",
        "stodata=yf.download(\"STO.AX\", period='max')\n",
        "wpldata=yf.download(\"WPL.AX\", period='max')"
      ],
      "execution_count": null,
      "outputs": []
    },
    {
      "cell_type": "code",
      "metadata": {
        "colab": {
          "base_uri": "https://localhost:8080/",
          "height": 238
        },
        "id": "AU6czHIgy2yj",
        "outputId": "6039d9ab-745c-43e4-c792-39575d87360f"
      },
      "source": [
        "orgdata.head()"
      ],
      "execution_count": 101,
      "outputs": [
        {
          "output_type": "execute_result",
          "data": {
            "text/html": [
              "<div>\n",
              "<style scoped>\n",
              "    .dataframe tbody tr th:only-of-type {\n",
              "        vertical-align: middle;\n",
              "    }\n",
              "\n",
              "    .dataframe tbody tr th {\n",
              "        vertical-align: top;\n",
              "    }\n",
              "\n",
              "    .dataframe thead th {\n",
              "        text-align: right;\n",
              "    }\n",
              "</style>\n",
              "<table border=\"1\" class=\"dataframe\">\n",
              "  <thead>\n",
              "    <tr style=\"text-align: right;\">\n",
              "      <th></th>\n",
              "      <th>Open</th>\n",
              "      <th>High</th>\n",
              "      <th>Low</th>\n",
              "      <th>Close</th>\n",
              "      <th>Adj Close</th>\n",
              "      <th>Volume</th>\n",
              "    </tr>\n",
              "    <tr>\n",
              "      <th>Date</th>\n",
              "      <th></th>\n",
              "      <th></th>\n",
              "      <th></th>\n",
              "      <th></th>\n",
              "      <th></th>\n",
              "      <th></th>\n",
              "    </tr>\n",
              "  </thead>\n",
              "  <tbody>\n",
              "    <tr>\n",
              "      <th>1999-02-22</th>\n",
              "      <td>1.163759</td>\n",
              "      <td>1.163759</td>\n",
              "      <td>1.153854</td>\n",
              "      <td>1.158806</td>\n",
              "      <td>0.612239</td>\n",
              "      <td>3249145.0</td>\n",
              "    </tr>\n",
              "    <tr>\n",
              "      <th>1999-02-23</th>\n",
              "      <td>1.173663</td>\n",
              "      <td>1.173663</td>\n",
              "      <td>1.158806</td>\n",
              "      <td>1.158806</td>\n",
              "      <td>0.612239</td>\n",
              "      <td>2175555.0</td>\n",
              "    </tr>\n",
              "    <tr>\n",
              "      <th>1999-02-24</th>\n",
              "      <td>1.168711</td>\n",
              "      <td>1.168711</td>\n",
              "      <td>1.158806</td>\n",
              "      <td>1.163759</td>\n",
              "      <td>0.614856</td>\n",
              "      <td>2173057.0</td>\n",
              "    </tr>\n",
              "    <tr>\n",
              "      <th>1999-02-25</th>\n",
              "      <td>1.163759</td>\n",
              "      <td>1.163759</td>\n",
              "      <td>1.143950</td>\n",
              "      <td>1.148407</td>\n",
              "      <td>0.606745</td>\n",
              "      <td>3563133.0</td>\n",
              "    </tr>\n",
              "    <tr>\n",
              "      <th>1999-02-26</th>\n",
              "      <td>1.158806</td>\n",
              "      <td>1.158806</td>\n",
              "      <td>1.143950</td>\n",
              "      <td>1.148902</td>\n",
              "      <td>0.607006</td>\n",
              "      <td>6696514.0</td>\n",
              "    </tr>\n",
              "  </tbody>\n",
              "</table>\n",
              "</div>"
            ],
            "text/plain": [
              "                Open      High       Low     Close  Adj Close     Volume\n",
              "Date                                                                    \n",
              "1999-02-22  1.163759  1.163759  1.153854  1.158806   0.612239  3249145.0\n",
              "1999-02-23  1.173663  1.173663  1.158806  1.158806   0.612239  2175555.0\n",
              "1999-02-24  1.168711  1.168711  1.158806  1.163759   0.614856  2173057.0\n",
              "1999-02-25  1.163759  1.163759  1.143950  1.148407   0.606745  3563133.0\n",
              "1999-02-26  1.158806  1.158806  1.143950  1.148902   0.607006  6696514.0"
            ]
          },
          "metadata": {},
          "execution_count": 101
        }
      ]
    },
    {
      "cell_type": "code",
      "metadata": {
        "id": "10dC7ecxy4LZ"
      },
      "source": [
        "bhpdata.head()"
      ],
      "execution_count": null,
      "outputs": []
    },
    {
      "cell_type": "code",
      "metadata": {
        "id": "I_Jgn7PZy5jg"
      },
      "source": [
        "stodata.head()"
      ],
      "execution_count": null,
      "outputs": []
    },
    {
      "cell_type": "code",
      "metadata": {
        "id": "sjZ_UaBay6-r"
      },
      "source": [
        "wpldata.head()"
      ],
      "execution_count": null,
      "outputs": []
    },
    {
      "cell_type": "markdown",
      "metadata": {
        "id": "53W17OHwzMIQ"
      },
      "source": [
        "#5-year stock price graphs"
      ]
    },
    {
      "cell_type": "code",
      "metadata": {
        "id": "EqOYOrZfzQa9"
      },
      "source": [
        "orgticker = yf.Ticker('ORG.AX')\n",
        "org_df    = orgticker.history(period=\"5y\")\n",
        "org_df.rename(columns = {'Close':'ORG Close'}, inplace = True)\n",
        "org_df['ORG Close'].plot(title=\"Origin Energy Stock Price\")"
      ],
      "execution_count": null,
      "outputs": []
    },
    {
      "cell_type": "code",
      "metadata": {
        "id": "FKbm07XgzW2x"
      },
      "source": [
        "bhpticker = yf.Ticker('BHP.AX')\n",
        "bhp_df    = bhpticker.history(period=\"5y\")\n",
        "bhp_df.rename(columns = {'Close':'BHP Close'}, inplace = True)\n",
        "bhp_df['BHP Close'].plot(title=\"BHP Stock Price\")"
      ],
      "execution_count": null,
      "outputs": []
    },
    {
      "cell_type": "code",
      "metadata": {
        "id": "ToX1YFTgzdbp"
      },
      "source": [
        "stoticker = yf.Ticker('STO.AX')\n",
        "sto_df    = stoticker.history(period=\"5y\")\n",
        "sto_df.rename(columns = {'Close':'STO Close'}, inplace = True)\n",
        "sto_df['STO Close'].plot(title=\"Santos Stock Price\")"
      ],
      "execution_count": null,
      "outputs": []
    },
    {
      "cell_type": "code",
      "metadata": {
        "id": "w1-Jp4WezsxP"
      },
      "source": [
        "wplticker = yf.Ticker('WPL.AX')\n",
        "wpl_df    = wplticker.history(period=\"5y\")\n",
        "wpl_df.rename(columns = {'Close':'WPL Close'}, inplace = True)\n",
        "wpl_df['WPL Close'].plot(title=\"Woodside Petroleum Stock Price\")"
      ],
      "execution_count": null,
      "outputs": []
    },
    {
      "cell_type": "code",
      "metadata": {
        "id": "b4mZcvX72xw0"
      },
      "source": [
        "import pandas as pd\n",
        "df = pd.concat([org_df['ORG Close'], bhp_df['BHP Close'], sto_df['STO Close'],wpl_df['WPL Close']], axis=1)"
      ],
      "execution_count": 54,
      "outputs": []
    },
    {
      "cell_type": "code",
      "metadata": {
        "id": "XB9YGlpb3NiG"
      },
      "source": [
        "df.head()"
      ],
      "execution_count": null,
      "outputs": []
    },
    {
      "cell_type": "code",
      "metadata": {
        "id": "2FdW2v2L4npH"
      },
      "source": [
        "df.tail()"
      ],
      "execution_count": null,
      "outputs": []
    },
    {
      "cell_type": "markdown",
      "metadata": {
        "id": "9MkKYODJ6OA1"
      },
      "source": [
        "#Plotting the 5-year stock prices for comparison"
      ]
    },
    {
      "cell_type": "code",
      "metadata": {
        "colab": {
          "base_uri": "https://localhost:8080/",
          "height": 587
        },
        "id": "K2yeZwS-6UTE",
        "outputId": "4ea9ab10-5c2b-496f-d4d7-d417095a437c"
      },
      "source": [
        "import matplotlib as plt\n",
        "df.plot()\n",
        "fig = plt.pyplot.gcf()\n",
        "fig.set_size_inches(18.5, 10.5)"
      ],
      "execution_count": 102,
      "outputs": [
        {
          "output_type": "display_data",
          "data": {
            "image/png": "[encoded data removed]",
            "text/plain": [
              "<Figure size 1332x756 with 1 Axes>"
            ]
          },
          "metadata": {
            "needs_background": "light"
          }
        }
      ]
    },
    {
      "cell_type": "code",
      "metadata": {
        "id": "CGnma75m83oh"
      },
      "source": [
        "returns=df.pct_change()"
      ],
      "execution_count": 67,
      "outputs": []
    },
    {
      "cell_type": "code",
      "metadata": {
        "id": "DBR1fTNM87SC"
      },
      "source": [
        "returns.tail()"
      ],
      "execution_count": null,
      "outputs": []
    },
    {
      "cell_type": "markdown",
      "metadata": {
        "id": "_5NvPgw8-OD7"
      },
      "source": [
        "#Setting up our fictitious portfolio of the 4 ONG companies"
      ]
    },
    {
      "cell_type": "code",
      "metadata": {
        "id": "rvbF5Z3A-ft8"
      },
      "source": [
        "import numpy as np\n",
        "weights   = np.array([.25, .25, .25, .25]) #Allocating equal weights to the stocks in our portfolio\n",
        "initinv   = 1000000 #Initial investment in dollars"
      ],
      "execution_count": 73,
      "outputs": []
    },
    {
      "cell_type": "markdown",
      "metadata": {
        "id": "DgDefF2y9w4o"
      },
      "source": [
        "#Calculating the Covariance Matrix for VaR calculation"
      ]
    },
    {
      "cell_type": "code",
      "metadata": {
        "colab": {
          "base_uri": "https://localhost:8080/",
          "height": 175
        },
        "id": "nKstbKGI91dJ",
        "outputId": "a465857d-c3c8-463e-930d-edec10b57702"
      },
      "source": [
        "cov_matrix = returns.cov()\n",
        "cov_matrix"
      ],
      "execution_count": 103,
      "outputs": [
        {
          "output_type": "execute_result",
          "data": {
            "text/html": [
              "<div>\n",
              "<style scoped>\n",
              "    .dataframe tbody tr th:only-of-type {\n",
              "        vertical-align: middle;\n",
              "    }\n",
              "\n",
              "    .dataframe tbody tr th {\n",
              "        vertical-align: top;\n",
              "    }\n",
              "\n",
              "    .dataframe thead th {\n",
              "        text-align: right;\n",
              "    }\n",
              "</style>\n",
              "<table border=\"1\" class=\"dataframe\">\n",
              "  <thead>\n",
              "    <tr style=\"text-align: right;\">\n",
              "      <th></th>\n",
              "      <th>ORG Close</th>\n",
              "      <th>BHP Close</th>\n",
              "      <th>STO Close</th>\n",
              "      <th>WPL Close</th>\n",
              "    </tr>\n",
              "  </thead>\n",
              "  <tbody>\n",
              "    <tr>\n",
              "      <th>ORG Close</th>\n",
              "      <td>0.000418</td>\n",
              "      <td>0.000171</td>\n",
              "      <td>0.000359</td>\n",
              "      <td>0.000268</td>\n",
              "    </tr>\n",
              "    <tr>\n",
              "      <th>BHP Close</th>\n",
              "      <td>0.000171</td>\n",
              "      <td>0.000296</td>\n",
              "      <td>0.000223</td>\n",
              "      <td>0.000186</td>\n",
              "    </tr>\n",
              "    <tr>\n",
              "      <th>STO Close</th>\n",
              "      <td>0.000359</td>\n",
              "      <td>0.000223</td>\n",
              "      <td>0.000644</td>\n",
              "      <td>0.000363</td>\n",
              "    </tr>\n",
              "    <tr>\n",
              "      <th>WPL Close</th>\n",
              "      <td>0.000268</td>\n",
              "      <td>0.000186</td>\n",
              "      <td>0.000363</td>\n",
              "      <td>0.000344</td>\n",
              "    </tr>\n",
              "  </tbody>\n",
              "</table>\n",
              "</div>"
            ],
            "text/plain": [
              "           ORG Close  BHP Close  STO Close  WPL Close\n",
              "ORG Close   0.000418   0.000171   0.000359   0.000268\n",
              "BHP Close   0.000171   0.000296   0.000223   0.000186\n",
              "STO Close   0.000359   0.000223   0.000644   0.000363\n",
              "WPL Close   0.000268   0.000186   0.000363   0.000344"
            ]
          },
          "metadata": {},
          "execution_count": 103
        }
      ]
    },
    {
      "cell_type": "markdown",
      "metadata": {
        "id": "dDDbNR5-_e02"
      },
      "source": [
        "#Calculating portfolio mean and standard **deviation**"
      ]
    },
    {
      "cell_type": "code",
      "metadata": {
        "colab": {
          "base_uri": "https://localhost:8080/"
        },
        "id": "zlTsun5W_int",
        "outputId": "453f233d-d16b-467b-e257-db77012f1936"
      },
      "source": [
        "avgreturns = returns.mean()\n",
        "avgreturns"
      ],
      "execution_count": 83,
      "outputs": [
        {
          "output_type": "execute_result",
          "data": {
            "text/plain": [
              "ORG Close    0.000158\n",
              "BHP Close    0.000711\n",
              "STO Close    0.000747\n",
              "WPL Close    0.000078\n",
              "dtype: float64"
            ]
          },
          "metadata": {},
          "execution_count": 83
        }
      ]
    },
    {
      "cell_type": "code",
      "metadata": {
        "id": "pYEwdR85G0mO"
      },
      "source": [
        "portfoliomean  = avgreturns.dot(weights)                           #Making the returns proportional with the weighting of our portfolio"
      ],
      "execution_count": 84,
      "outputs": []
    },
    {
      "cell_type": "code",
      "metadata": {
        "id": "Vdf1HSr4HKfq"
      },
      "source": [
        "portfoliostd = np.sqrt(weights.T.dot(cov_matrix).dot(weights))     #Computing the standard deviation of our portfolio after adjusting for weights"
      ],
      "execution_count": 85,
      "outputs": []
    },
    {
      "cell_type": "code",
      "metadata": {
        "id": "4vPEg5fuHdng"
      },
      "source": [
        "invmean        = (1+portfoliomean) * initinv                       #Computing the mean of our investment amount"
      ],
      "execution_count": 86,
      "outputs": []
    },
    {
      "cell_type": "code",
      "metadata": {
        "id": "6RwrPElhHtAp"
      },
      "source": [
        "invstd         = initinv * portfoliostd                            #Computing the standard deviation of our investment"
      ],
      "execution_count": 87,
      "outputs": []
    },
    {
      "cell_type": "markdown",
      "metadata": {
        "id": "tgNfRLgKIJz5"
      },
      "source": [
        "#Computing the Value at Risk"
      ]
    },
    {
      "cell_type": "code",
      "metadata": {
        "id": "d9t3SC-7IjFC"
      },
      "source": [
        "from scipy.stats import norm"
      ],
      "execution_count": 88,
      "outputs": []
    },
    {
      "cell_type": "code",
      "metadata": {
        "id": "4drphYTxIOV8"
      },
      "source": [
        "conf = 0.05                                                       #Asserting the confidence interval at 95%"
      ],
      "execution_count": 92,
      "outputs": []
    },
    {
      "cell_type": "code",
      "metadata": {
        "id": "B1yNJ9xKI7KX"
      },
      "source": [
        "confcutoff = norm.ppf(conf, invmean, invstd)                      #Defining the \"cutoff\" value where our 95% CI sits"
      ],
      "execution_count": 93,
      "outputs": []
    },
    {
      "cell_type": "code",
      "metadata": {
        "id": "I5-BHFh1JOI0"
      },
      "source": [
        "var = initinv - confcutoff                                        #Calculating the VaR as Initial Investment value minus the cutoff"
      ],
      "execution_count": 94,
      "outputs": []
    },
    {
      "cell_type": "code",
      "metadata": {
        "colab": {
          "base_uri": "https://localhost:8080/"
        },
        "id": "d54r8fVNJhoI",
        "outputId": "44b6b8f5-a6fd-4dac-d2d4-530d1e7f1e5a"
      },
      "source": [
        "var"
      ],
      "execution_count": 95,
      "outputs": [
        {
          "output_type": "execute_result",
          "data": {
            "text/plain": [
              "28195.09719076578"
            ]
          },
          "metadata": {},
          "execution_count": 95
        }
      ]
    },
    {
      "cell_type": "markdown",
      "metadata": {
        "id": "ZWL5d1FZJo2E"
      },
      "source": [
        "#Interpretation\n",
        "\n",
        "The VaR value above of 28,195 means that:\n",
        "\n",
        "We can say with 95% confidence that on an initial investment of AUD 1 million, our losses will NOT exceed AUD 28,195."
      ]
    }
  ]
}