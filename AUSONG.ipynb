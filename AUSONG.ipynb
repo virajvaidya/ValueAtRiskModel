{
  "nbformat": 4,
  "nbformat_minor": 0,
  "metadata": {
    "colab": {
      "name": "AUSONG.ipynb",
      "provenance": [],
      "authorship_tag": "ABX9TyNPsBufg1iY6MLn9XCf/z8t",
      "include_colab_link": true
    },
    "kernelspec": {
      "name": "python3",
      "display_name": "Python 3"
    },
    "language_info": {
      "name": "python"
    }
  },
  "cells": [
    {
      "cell_type": "markdown",
      "metadata": {
        "id": "view-in-github",
        "colab_type": "text"
      },
      "source": [
        "<a href=\"https://colab.research.google.com/github/virajvaidya/ValueAtRiskModel/blob/main/AUSONG.ipynb\" target=\"_parent\"><img src=\"https://colab.research.google.com/assets/colab-badge.svg\" alt=\"Open In Colab\"/></a>"
      ]
    },
    {
      "cell_type": "code",
      "metadata": {
        "id": "ob-MPIUzrWPC"
      },
      "source": [
        "!pip install yfinance\n",
        "\n",
        "from scipy.stats import norm\n",
        "\n",
        "import yfinance          as yf\n",
        "import pandas            as pd\n",
        "import numpy             as np\n",
        "import datetime          as dt\n",
        "import matplotlib.pyplot as plt\n",
        "\n",
        "import requests\n"
      ],
      "execution_count": null,
      "outputs": []
    },
    {
      "cell_type": "code",
      "metadata": {
        "id": "5ExZcv5XsYBf"
      },
      "source": [
        "org = yf.Ticker(\"ORG.AX\") #ORIGIN ENERGY\n",
        "bhp = yf.Ticker(\"BHP.AX\") #BHP\n",
        "sto = yf.Ticker(\"STO.AX\") #SANTOS\n",
        "wpl = yf.Ticker(\"WPL.AX\") #WOODSIDE PETROLEUM"
      ],
      "execution_count": 18,
      "outputs": []
    },
    {
      "cell_type": "markdown",
      "metadata": {
        "id": "4COGzrS_vG8A"
      },
      "source": [
        "#Stock info"
      ]
    },
    {
      "cell_type": "code",
      "metadata": {
        "id": "Bx1yrT53uyZ6"
      },
      "source": [
        "org.info"
      ],
      "execution_count": null,
      "outputs": []
    },
    {
      "cell_type": "code",
      "metadata": {
        "id": "kdz4RtvZs3ef"
      },
      "source": [
        "bhp.info"
      ],
      "execution_count": null,
      "outputs": []
    },
    {
      "cell_type": "code",
      "metadata": {
        "id": "RdquBIWrulOx"
      },
      "source": [
        "sto.info"
      ],
      "execution_count": null,
      "outputs": []
    },
    {
      "cell_type": "code",
      "metadata": {
        "id": "s-Y687W8uw1V"
      },
      "source": [
        "wpl.info"
      ],
      "execution_count": null,
      "outputs": []
    },
    {
      "cell_type": "markdown",
      "metadata": {
        "id": "2g1pZm8pvEjD"
      },
      "source": [
        "#Cashflow"
      ]
    },
    {
      "cell_type": "code",
      "metadata": {
        "id": "l5O1QgqRu__-"
      },
      "source": [
        "org.cashflow"
      ],
      "execution_count": null,
      "outputs": []
    },
    {
      "cell_type": "code",
      "metadata": {
        "id": "gP4qXPQzvKLH"
      },
      "source": [
        "bhp.cashflow"
      ],
      "execution_count": null,
      "outputs": []
    },
    {
      "cell_type": "code",
      "metadata": {
        "id": "XrJwPzCqvM7f"
      },
      "source": [
        "sto.cashflow"
      ],
      "execution_count": null,
      "outputs": []
    },
    {
      "cell_type": "code",
      "metadata": {
        "id": "Aczkry5YvPCR"
      },
      "source": [
        "wpl.cashflow"
      ],
      "execution_count": null,
      "outputs": []
    },
    {
      "cell_type": "markdown",
      "metadata": {
        "id": "AInGuubOx56r"
      },
      "source": [
        "#Balance Sheet"
      ]
    },
    {
      "cell_type": "code",
      "metadata": {
        "id": "ZGoeDyJ3yAlD"
      },
      "source": [
        "org.balance_sheet"
      ],
      "execution_count": null,
      "outputs": []
    },
    {
      "cell_type": "code",
      "metadata": {
        "id": "GrxhCLyjyEqF"
      },
      "source": [
        "bhp.balance_sheet"
      ],
      "execution_count": null,
      "outputs": []
    },
    {
      "cell_type": "code",
      "metadata": {
        "id": "qzproIdvyFwN"
      },
      "source": [
        "sto.balance_sheet"
      ],
      "execution_count": null,
      "outputs": []
    },
    {
      "cell_type": "code",
      "metadata": {
        "id": "OZjVDKlSyGo2"
      },
      "source": [
        "wpl.balance_sheet"
      ],
      "execution_count": null,
      "outputs": []
    },
    {
      "cell_type": "markdown",
      "metadata": {
        "id": "N-745IrIxm0e"
      },
      "source": [
        "#Earnings"
      ]
    },
    {
      "cell_type": "code",
      "metadata": {
        "id": "aa-S2BAUxmPE"
      },
      "source": [
        "org.earnings"
      ],
      "execution_count": null,
      "outputs": []
    },
    {
      "cell_type": "code",
      "metadata": {
        "id": "uxIByJ5bxs_J"
      },
      "source": [
        "bhp.earnings"
      ],
      "execution_count": null,
      "outputs": []
    },
    {
      "cell_type": "code",
      "metadata": {
        "id": "XgaPfXHCxvre"
      },
      "source": [
        "sto.earnings"
      ],
      "execution_count": null,
      "outputs": []
    },
    {
      "cell_type": "code",
      "metadata": {
        "id": "kKFAfrk6xzWs"
      },
      "source": [
        "wpl.earnings"
      ],
      "execution_count": null,
      "outputs": []
    },
    {
      "cell_type": "markdown",
      "metadata": {
        "id": "JoasFfPAxOpV"
      },
      "source": [
        "#Institutional Holders"
      ]
    },
    {
      "cell_type": "code",
      "metadata": {
        "id": "oMRYs65SxRJL"
      },
      "source": [
        "org.institutional_holders"
      ],
      "execution_count": null,
      "outputs": []
    },
    {
      "cell_type": "code",
      "metadata": {
        "id": "XPKEwplTxUni"
      },
      "source": [
        "bhp.institutional_holders"
      ],
      "execution_count": null,
      "outputs": []
    },
    {
      "cell_type": "code",
      "metadata": {
        "id": "iL8YdBjkxWac"
      },
      "source": [
        "sto.institutional_holders"
      ],
      "execution_count": null,
      "outputs": []
    },
    {
      "cell_type": "code",
      "metadata": {
        "id": "QTTbncmZxY3K"
      },
      "source": [
        "wpl.institutional_holders"
      ],
      "execution_count": null,
      "outputs": []
    },
    {
      "cell_type": "markdown",
      "metadata": {
        "id": "ZvrxXa3jyXQb"
      },
      "source": [
        "#Datasets"
      ]
    },
    {
      "cell_type": "code",
      "metadata": {
        "id": "W7_K4hkbyXAY"
      },
      "source": [
        "orgdata=yf.download(\"ORG.AX\", period='max')\n",
        "bhpdata=yf.download(\"BHP.AX\", period='max')\n",
        "stodata=yf.download(\"STO.AX\", period='max')\n",
        "wpldata=yf.download(\"WPL.AX\", period='max')"
      ],
      "execution_count": null,
      "outputs": []
    },
    {
      "cell_type": "code",
      "metadata": {
        "id": "AU6czHIgy2yj"
      },
      "source": [
        "orgdata.head()"
      ],
      "execution_count": null,
      "outputs": []
    },
    {
      "cell_type": "code",
      "metadata": {
        "id": "10dC7ecxy4LZ"
      },
      "source": [
        "bhpdata.head()"
      ],
      "execution_count": null,
      "outputs": []
    },
    {
      "cell_type": "code",
      "metadata": {
        "id": "I_Jgn7PZy5jg"
      },
      "source": [
        "stodata.head()"
      ],
      "execution_count": null,
      "outputs": []
    },
    {
      "cell_type": "code",
      "metadata": {
        "id": "sjZ_UaBay6-r"
      },
      "source": [
        "wpldata.head()"
      ],
      "execution_count": null,
      "outputs": []
    },
    {
      "cell_type": "markdown",
      "metadata": {
        "id": "53W17OHwzMIQ"
      },
      "source": [
        "#5-year stock price graphs"
      ]
    },
    {
      "cell_type": "code",
      "metadata": {
        "id": "EqOYOrZfzQa9"
      },
      "source": [
        "orgticker = yf.Ticker('ORG.AX')\n",
        "org_df    = orgticker.history(period=\"5y\")\n",
        "org_df.rename(columns = {'Close':'ORG Close'}, inplace = True)\n",
        "org_df['ORG Close'].plot(title=\"Origin Energy Stock Price\")"
      ],
      "execution_count": null,
      "outputs": []
    },
    {
      "cell_type": "code",
      "metadata": {
        "id": "FKbm07XgzW2x"
      },
      "source": [
        "bhpticker = yf.Ticker('BHP.AX')\n",
        "bhp_df    = bhpticker.history(period=\"5y\")\n",
        "bhp_df.rename(columns = {'Close':'BHP Close'}, inplace = True)\n",
        "bhp_df['BHP Close'].plot(title=\"BHP Stock Price\")"
      ],
      "execution_count": null,
      "outputs": []
    },
    {
      "cell_type": "code",
      "metadata": {
        "id": "ToX1YFTgzdbp"
      },
      "source": [
        "stoticker = yf.Ticker('STO.AX')\n",
        "sto_df    = stoticker.history(period=\"5y\")\n",
        "sto_df.rename(columns = {'Close':'STO Close'}, inplace = True)\n",
        "sto_df['STO Close'].plot(title=\"Santos Stock Price\")"
      ],
      "execution_count": null,
      "outputs": []
    },
    {
      "cell_type": "code",
      "metadata": {
        "id": "w1-Jp4WezsxP"
      },
      "source": [
        "wplticker = yf.Ticker('WPL.AX')\n",
        "wpl_df    = wplticker.history(period=\"5y\")\n",
        "wpl_df.rename(columns = {'Close':'WPL Close'}, inplace = True)\n",
        "wpl_df['WPL Close'].plot(title=\"Woodside Petroleum Stock Price\")"
      ],
      "execution_count": null,
      "outputs": []
    },
    {
      "cell_type": "code",
      "metadata": {
        "id": "b4mZcvX72xw0"
      },
      "source": [
        "import pandas as pd\n",
        "df = pd.concat([org_df['ORG Close'], bhp_df['BHP Close'], sto_df['STO Close'],wpl_df['WPL Close']], axis=1)"
      ],
      "execution_count": 54,
      "outputs": []
    },
    {
      "cell_type": "code",
      "metadata": {
        "id": "XB9YGlpb3NiG"
      },
      "source": [
        "df.head()"
      ],
      "execution_count": null,
      "outputs": []
    },
    {
      "cell_type": "code",
      "metadata": {
        "id": "2FdW2v2L4npH"
      },
      "source": [
        "df.tail()"
      ],
      "execution_count": null,
      "outputs": []
    },
    {
      "cell_type": "markdown",
      "metadata": {
        "id": "9MkKYODJ6OA1"
      },
      "source": [
        "#Plotting the 5-year stock prices for comparison"
      ]
    },
    {
      "cell_type": "code",
      "metadata": {
        "id": "K2yeZwS-6UTE"
      },
      "source": [
        "import matplotlib as plt\n",
        "df.plot()\n",
        "fig = plt.pyplot.gcf()\n",
        "fig.set_size_inches(18.5, 10.5)"
      ],
      "execution_count": null,
      "outputs": []
    },
    {
      "cell_type": "code",
      "metadata": {
        "id": "CGnma75m83oh"
      },
      "source": [
        "returns=df.pct_change()"
      ],
      "execution_count": 67,
      "outputs": []
    },
    {
      "cell_type": "code",
      "metadata": {
        "id": "DBR1fTNM87SC"
      },
      "source": [
        "returns.tail()"
      ],
      "execution_count": null,
      "outputs": []
    },
    {
      "cell_type": "markdown",
      "metadata": {
        "id": "_5NvPgw8-OD7"
      },
      "source": [
        "#Setting up our fictitious portfolio of the 4 ONG companies"
      ]
    },
    {
      "cell_type": "code",
      "metadata": {
        "id": "rvbF5Z3A-ft8"
      },
      "source": [
        "import numpy as np\n",
        "weights   = np.array([.25, .25, .25, .25]) #Allocating equal weights to the stocks in our portfolio\n",
        "initinv   = 1000000 #Initial investment in dollars"
      ],
      "execution_count": 73,
      "outputs": []
    },
    {
      "cell_type": "markdown",
      "metadata": {
        "id": "DgDefF2y9w4o"
      },
      "source": [
        "#Calculating the Covariance Matrix for VaR calculation"
      ]
    },
    {
      "cell_type": "code",
      "metadata": {
        "id": "nKstbKGI91dJ"
      },
      "source": [
        "cov_matrix = returns.cov()\n",
        "cov_matrix"
      ],
      "execution_count": null,
      "outputs": []
    },
    {
      "cell_type": "markdown",
      "metadata": {
        "id": "dDDbNR5-_e02"
      },
      "source": [
        "#Clacluating portfolio mean and standard deviation"
      ]
    },
    {
      "cell_type": "code",
      "metadata": {
        "colab": {
          "base_uri": "https://localhost:8080/"
        },
        "id": "zlTsun5W_int",
        "outputId": "453f233d-d16b-467b-e257-db77012f1936"
      },
      "source": [
        "avgreturns = returns.mean()\n",
        "avgreturns"
      ],
      "execution_count": 83,
      "outputs": [
        {
          "output_type": "execute_result",
          "data": {
            "text/plain": [
              "ORG Close    0.000158\n",
              "BHP Close    0.000711\n",
              "STO Close    0.000747\n",
              "WPL Close    0.000078\n",
              "dtype: float64"
            ]
          },
          "metadata": {},
          "execution_count": 83
        }
      ]
    },
    {
      "cell_type": "code",
      "metadata": {
        "id": "pYEwdR85G0mO"
      },
      "source": [
        "portfoliomean  = avgreturns.dot(weights)                           #Making the returns proportional with the weighting of our portfolio"
      ],
      "execution_count": 84,
      "outputs": []
    },
    {
      "cell_type": "code",
      "metadata": {
        "id": "Vdf1HSr4HKfq"
      },
      "source": [
        "portfoliostd = np.sqrt(weights.T.dot(cov_matrix).dot(weights))     #Computing the standard deviation of our portfolio after adjusting for weights"
      ],
      "execution_count": 85,
      "outputs": []
    },
    {
      "cell_type": "code",
      "metadata": {
        "id": "4vPEg5fuHdng"
      },
      "source": [
        "invmean        = (1+portfoliomean) * initinv                       #Computing the mean of our investment amount"
      ],
      "execution_count": 86,
      "outputs": []
    },
    {
      "cell_type": "code",
      "metadata": {
        "id": "6RwrPElhHtAp"
      },
      "source": [
        "invstd         = initinv * portfoliostd                            #Computing the standard deviation of our investment"
      ],
      "execution_count": 87,
      "outputs": []
    },
    {
      "cell_type": "markdown",
      "metadata": {
        "id": "tgNfRLgKIJz5"
      },
      "source": [
        "#Computing the Value at Risk"
      ]
    },
    {
      "cell_type": "code",
      "metadata": {
        "id": "d9t3SC-7IjFC"
      },
      "source": [
        "from scipy.stats import norm"
      ],
      "execution_count": 88,
      "outputs": []
    },
    {
      "cell_type": "code",
      "metadata": {
        "id": "4drphYTxIOV8"
      },
      "source": [
        "conf = 0.05                                                       #Asserting the confidence interval at 95%"
      ],
      "execution_count": 92,
      "outputs": []
    },
    {
      "cell_type": "code",
      "metadata": {
        "id": "B1yNJ9xKI7KX"
      },
      "source": [
        "confcutoff = norm.ppf(conf, invmean, invstd)                      #Defining the \"cutoff\" value where our 95% CI sits"
      ],
      "execution_count": 93,
      "outputs": []
    },
    {
      "cell_type": "code",
      "metadata": {
        "id": "I5-BHFh1JOI0"
      },
      "source": [
        "var = initinv - confcutoff                                        #Calculating the VaR as Initial Investment value minus the cutoff"
      ],
      "execution_count": 94,
      "outputs": []
    },
    {
      "cell_type": "code",
      "metadata": {
        "colab": {
          "base_uri": "https://localhost:8080/"
        },
        "id": "d54r8fVNJhoI",
        "outputId": "44b6b8f5-a6fd-4dac-d2d4-530d1e7f1e5a"
      },
      "source": [
        "var"
      ],
      "execution_count": 95,
      "outputs": [
        {
          "output_type": "execute_result",
          "data": {
            "text/plain": [
              "28195.09719076578"
            ]
          },
          "metadata": {},
          "execution_count": 95
        }
      ]
    },
    {
      "cell_type": "markdown",
      "metadata": {
        "id": "ZWL5d1FZJo2E"
      },
      "source": [
        "#Interpretation\n",
        "\n",
        "The VaR value above of 28,195 means that:\n",
        "\n",
        "We can say with 95% confidence that on an initial investment of AUD 1 million, our losses will NOT exceed AUD 28,195."
      ]
    }
  ]
}